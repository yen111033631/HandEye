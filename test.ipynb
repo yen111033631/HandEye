{
 "cells": [
  {
   "cell_type": "code",
   "execution_count": null,
   "metadata": {},
   "outputs": [],
   "source": [
    "import pandas as pd\n",
    "csv_dir = r\"\\\\140.114.141.95\\nas\\111\\111033631_Yen\\ARM\\capture_images_sim\\Jul10_H17_M13_S26_DQN014_result_647_647\\position.csv\"\n",
    "\n",
    "df = pd.read_csv(csv_dir, index_col=0)"
   ]
  },
  {
   "cell_type": "code",
   "execution_count": null,
   "metadata": {},
   "outputs": [],
   "source": [
    "import numpy as np\n",
    "\n",
    "i = 15\n",
    "for i in range(20):\n",
    "    cube_p = df.iloc[i][-4: -1]\n",
    "    cube_p1 = df.iloc[i+1][-4: -1]\n",
    "    \n",
    "    tf = not(np.all(cube_p == cube_p1))\n",
    "    print(i, tf)\n",
    "    # print(cube_p)\n",
    "    print(\"-\")"
   ]
  },
  {
   "cell_type": "code",
   "execution_count": null,
   "metadata": {},
   "outputs": [],
   "source": [
    "cube_position = df.iloc[0][-4: -1]\n",
    "cube_position"
   ]
  },
  {
   "cell_type": "code",
   "execution_count": null,
   "metadata": {},
   "outputs": [],
   "source": [
    "cube_position = [x * 1000 for x in cube_position]\n",
    "cube_position"
   ]
  },
  {
   "cell_type": "code",
   "execution_count": null,
   "metadata": {},
   "outputs": [],
   "source": [
    "[*cube_position[:2], 100]"
   ]
  },
  {
   "cell_type": "code",
   "execution_count": null,
   "metadata": {},
   "outputs": [],
   "source": [
    "import keyboard\n",
    "import time\n",
    "\n",
    "print(\"按下 'y' 鍵以結束程式。\")\n",
    "\n",
    "# 這是一個無限循環，用於不斷檢查鍵盤輸入\n",
    "while True:\n",
    "    if keyboard.is_pressed('y'):\n",
    "        print(\"偵測到 'y' 鍵，程式結束。\")\n",
    "        break\n",
    "    # 讓程式稍微休息一下，避免占用過多 CPU 資源\n",
    "    time.sleep(0.1)\n"
   ]
  },
  {
   "cell_type": "code",
   "execution_count": null,
   "metadata": {},
   "outputs": [],
   "source": [
    "import threading\n",
    "import time\n",
    "\n",
    "def print_numbers():\n",
    "    for i in range(5):\n",
    "        print(i)\n",
    "        time.sleep(1)\n",
    "\n",
    "def print_letters():\n",
    "    for letter in ['a', 'b', 'c', 'd', 'e']:\n",
    "        print(letter)\n",
    "        time.sleep(1)\n",
    "\n",
    "# 創建執行緒\n",
    "thread1 = threading.Thread(target=print_numbers)\n",
    "thread2 = threading.Thread(target=print_letters)\n",
    "\n",
    "# 啟動執行緒\n",
    "thread1.start()\n",
    "thread2.start()\n",
    "\n",
    "# 等待執行緒完成\n",
    "thread1.join()\n",
    "thread2.join()\n",
    "\n",
    "print(\"Done!\")\n"
   ]
  },
  {
   "cell_type": "code",
   "execution_count": null,
   "metadata": {},
   "outputs": [],
   "source": [
    "import threading\n",
    "import time\n",
    "\n",
    "def long_task(i, x):\n",
    "    print(f\"Starting long task {i}, {x}\")\n",
    "    time.sleep(5)\n",
    "    print(f\"Finished long task {i}\")\n",
    "\n",
    "# 主程式迴圈\n",
    "for i in range(3):\n",
    "    print(f\"Main loop iteration {i}\")\n",
    "    thread = threading.Thread(target=long_task, args=(i:=i,x:=\"123\"))\n",
    "    thread.start()\n",
    "    # 不等待 long_task 完成，繼續迴圈\n",
    "    time.sleep(1)  # 模擬其他工作的時間\n",
    "    print(\"--\")\n",
    "    \n",
    "thread.join()\n",
    "print(\"Main loop completed\")\n"
   ]
  },
  {
   "cell_type": "code",
   "execution_count": null,
   "metadata": {},
   "outputs": [],
   "source": [
    "import threading\n",
    "import time\n",
    "\n",
    "def worker(name):\n",
    "    while True:\n",
    "        print(f\"{name} is working...\")\n",
    "        time.sleep(1)\n",
    "\n",
    "# 創建兩個線程\n",
    "thread1 = threading.Thread(target=worker, args=(\"Thread 1\",))\n",
    "thread2 = threading.Thread(target=worker, args=(\"Thread 2\",))\n",
    "\n",
    "# 啟動線程\n",
    "thread1.start()\n",
    "thread2.start()\n",
    "\n",
    "# 讓線程運行一段時間\n",
    "time.sleep(5)\n",
    "\n",
    "# 強制停止thread1\n",
    "print(\"Stopping Thread 1...\")\n",
    "thread1.daemon = True\n",
    "thread1._stop()\n",
    "\n",
    "# 等待thread2完成\n",
    "thread2.join()\n",
    "\n",
    "print(\"Main thread exiting...\")"
   ]
  },
  {
   "cell_type": "code",
   "execution_count": null,
   "metadata": {},
   "outputs": [],
   "source": [
    "from multiprocessing import Process\n",
    "import time\n",
    "\n",
    "def long_task(i):\n",
    "    print(f\"Starting long task {i}\")\n",
    "    time.sleep(5)\n",
    "    print(f\"Finished long task {i}\")\n",
    "\n",
    "# 主程式迴圈\n",
    "if __name__ == \"__main__\":\n",
    "    for i in range(10):\n",
    "        print(f\"Main loop iteration {i}\")\n",
    "        process = Process(target=long_task, args=(i,))\n",
    "        process.start()\n",
    "        # 不等待 long_task 完成，繼續迴圈\n",
    "        time.sleep(1)  # 模擬其他工作的時間\n",
    "        print(\"--\")\n",
    "\n",
    "    print(\"Main loop completed\")\n"
   ]
  },
  {
   "cell_type": "code",
   "execution_count": 1,
   "metadata": {},
   "outputs": [
    {
     "name": "stdout",
     "output_type": "stream",
     "text": [
      "Working...\n",
      "Working...\n",
      "Working...\n",
      "Working...\n",
      "Working...\n",
      "Sending stop signal...\n",
      "Worker received stop signal.\n",
      "Main thread exiting...\n"
     ]
    }
   ],
   "source": [
    "import threading\n",
    "import time\n",
    "\n",
    "def worker(event):\n",
    "    while not event.is_set():\n",
    "        print(\"Working...\")\n",
    "        time.sleep(1)\n",
    "    print(\"Worker received stop signal.\")\n",
    "\n",
    "# 創建一個事件對象\n",
    "stop_event = threading.Event()\n",
    "\n",
    "# 創建並啟動線程\n",
    "thread = threading.Thread(target=worker, args=(stop_event,))\n",
    "thread.start()\n",
    "\n",
    "# 模擬主程序運行一段時間\n",
    "time.sleep(5)\n",
    "\n",
    "# 發送停止信號\n",
    "print(\"Sending stop signal...\")\n",
    "stop_event.set()\n",
    "\n",
    "# 等待線程結束\n",
    "thread.join()\n",
    "\n",
    "print(\"Main thread exiting...\")"
   ]
  },
  {
   "cell_type": "code",
   "execution_count": 2,
   "metadata": {},
   "outputs": [
    {
     "name": "stdout",
     "output_type": "stream",
     "text": [
      "Working...\n",
      "Working...\n",
      "Working...\n",
      "Working...\n",
      "Working...\n",
      "Sending stop signal...\n",
      "Worker received stop signal.\n",
      "Main thread exiting...\n"
     ]
    }
   ],
   "source": [
    "import threading\n",
    "import time\n",
    "\n",
    "def worker(stop_flag):\n",
    "    while not stop_flag[0]:\n",
    "        print(\"Working...\")\n",
    "        time.sleep(1)\n",
    "    print(\"Worker received stop signal.\")\n",
    "\n",
    "# 創建一個可變的標誌\n",
    "stop_flag = [False]\n",
    "\n",
    "# 創建並啟動線程\n",
    "thread = threading.Thread(target=worker, args=(stop_flag,))\n",
    "thread.start()\n",
    "\n",
    "# 模擬主程序運行一段時間\n",
    "time.sleep(5)\n",
    "\n",
    "# 發送停止信號\n",
    "print(\"Sending stop signal...\")\n",
    "stop_flag[0] = True\n",
    "\n",
    "# 等待線程結束\n",
    "thread.join()\n",
    "\n",
    "print(\"Main thread exiting...\")"
   ]
  }
 ],
 "metadata": {
  "kernelspec": {
   "display_name": "Python 3",
   "language": "python",
   "name": "python3"
  },
  "language_info": {
   "codemirror_mode": {
    "name": "ipython",
    "version": 3
   },
   "file_extension": ".py",
   "mimetype": "text/x-python",
   "name": "python",
   "nbconvert_exporter": "python",
   "pygments_lexer": "ipython3",
   "version": "3.10.11"
  }
 },
 "nbformat": 4,
 "nbformat_minor": 2
}
