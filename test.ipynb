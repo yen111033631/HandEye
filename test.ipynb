{
 "cells": [
  {
   "cell_type": "code",
   "execution_count": 2,
   "metadata": {},
   "outputs": [],
   "source": [
    "import pandas as pd\n",
    "csv_dir = r\"\\\\140.114.141.95\\nas\\111\\111033631_Yen\\ARM\\capture_images_sim\\Jul10_H17_M13_S26_DQN014_result_647_647\\position.csv\"\n",
    "\n",
    "df = pd.read_csv(csv_dir, index_col=0)"
   ]
  },
  {
   "cell_type": "code",
   "execution_count": 4,
   "metadata": {},
   "outputs": [
    {
     "name": "stdout",
     "output_type": "stream",
     "text": [
      "0 False\n",
      "-\n",
      "1 False\n",
      "-\n",
      "2 False\n",
      "-\n",
      "3 False\n",
      "-\n",
      "4 False\n",
      "-\n",
      "5 False\n",
      "-\n",
      "6 False\n",
      "-\n",
      "7 False\n",
      "-\n",
      "8 False\n",
      "-\n",
      "9 False\n",
      "-\n",
      "10 False\n",
      "-\n",
      "11 True\n",
      "-\n",
      "12 False\n",
      "-\n",
      "13 False\n",
      "-\n",
      "14 False\n",
      "-\n",
      "15 False\n",
      "-\n",
      "16 False\n",
      "-\n",
      "17 False\n",
      "-\n",
      "18 False\n",
      "-\n",
      "19 True\n",
      "-\n"
     ]
    }
   ],
   "source": [
    "import numpy as np\n",
    "\n",
    "i = 15\n",
    "for i in range(20):\n",
    "    cube_p = df.iloc[i][-4: -1]\n",
    "    cube_p1 = df.iloc[i+1][-4: -1]\n",
    "    \n",
    "    tf = not(np.all(cube_p == cube_p1))\n",
    "    print(i, tf)\n",
    "    # print(cube_p)\n",
    "    print(\"-\")"
   ]
  },
  {
   "cell_type": "code",
   "execution_count": 25,
   "metadata": {},
   "outputs": [
    {
     "data": {
      "text/plain": [
       "cube_x   -0.16\n",
       "cube_y   -0.55\n",
       "cube_z    0.03\n",
       "Name: img_0000, dtype: float64"
      ]
     },
     "execution_count": 25,
     "metadata": {},
     "output_type": "execute_result"
    }
   ],
   "source": [
    "cube_position = df.iloc[0][-4: -1]\n",
    "cube_position"
   ]
  },
  {
   "cell_type": "code",
   "execution_count": 26,
   "metadata": {},
   "outputs": [
    {
     "data": {
      "text/plain": [
       "[-160.0, -550.0, 30.0]"
      ]
     },
     "execution_count": 26,
     "metadata": {},
     "output_type": "execute_result"
    }
   ],
   "source": [
    "cube_position = [x * 1000 for x in cube_position]\n",
    "cube_position"
   ]
  },
  {
   "cell_type": "code",
   "execution_count": 27,
   "metadata": {},
   "outputs": [
    {
     "data": {
      "text/plain": [
       "[-160.0, -550.0, 100]"
      ]
     },
     "execution_count": 27,
     "metadata": {},
     "output_type": "execute_result"
    }
   ],
   "source": [
    "[*cube_position[:2], 100]"
   ]
  },
  {
   "cell_type": "code",
   "execution_count": 29,
   "metadata": {},
   "outputs": [
    {
     "name": "stdout",
     "output_type": "stream",
     "text": [
      "按下 'y' 鍵以結束程式。\n",
      "偵測到 'y' 鍵，程式結束。\n"
     ]
    }
   ],
   "source": [
    "import keyboard\n",
    "import time\n",
    "\n",
    "print(\"按下 'y' 鍵以結束程式。\")\n",
    "\n",
    "# 這是一個無限循環，用於不斷檢查鍵盤輸入\n",
    "while True:\n",
    "    if keyboard.is_pressed('y'):\n",
    "        print(\"偵測到 'y' 鍵，程式結束。\")\n",
    "        break\n",
    "    # 讓程式稍微休息一下，避免占用過多 CPU 資源\n",
    "    time.sleep(0.1)\n"
   ]
  },
  {
   "cell_type": "code",
   "execution_count": 5,
   "metadata": {},
   "outputs": [
    {
     "name": "stdout",
     "output_type": "stream",
     "text": [
      "0\n",
      "a\n",
      "1b\n",
      "\n",
      "2c\n",
      "\n",
      "3d\n",
      "\n",
      "4e\n",
      "\n",
      "Done!\n"
     ]
    }
   ],
   "source": [
    "import threading\n",
    "import time\n",
    "\n",
    "def print_numbers():\n",
    "    for i in range(5):\n",
    "        print(i)\n",
    "        time.sleep(1)\n",
    "\n",
    "def print_letters():\n",
    "    for letter in ['a', 'b', 'c', 'd', 'e']:\n",
    "        print(letter)\n",
    "        time.sleep(1)\n",
    "\n",
    "# 創建執行緒\n",
    "thread1 = threading.Thread(target=print_numbers)\n",
    "thread2 = threading.Thread(target=print_letters)\n",
    "\n",
    "# 啟動執行緒\n",
    "thread1.start()\n",
    "thread2.start()\n",
    "\n",
    "# 等待執行緒完成\n",
    "thread1.join()\n",
    "thread2.join()\n",
    "\n",
    "print(\"Done!\")\n"
   ]
  },
  {
   "cell_type": "code",
   "execution_count": 17,
   "metadata": {},
   "outputs": [
    {
     "name": "stdout",
     "output_type": "stream",
     "text": [
      "Main loop iteration 0\n",
      "Starting long task 0, 123\n",
      "--\n",
      "Main loop iteration 1\n",
      "Starting long task 1, 123\n",
      "--\n",
      "Main loop iteration 2\n",
      "Starting long task 2, 123\n",
      "--\n",
      "Main loop iteration 3\n",
      "Starting long task 3, 123\n",
      "--\n",
      "Main loop iteration 4\n",
      "Starting long task 4, 123\n",
      "Finished long task 0\n",
      "--\n",
      "Main loop completed\n"
     ]
    },
    {
     "name": "stdout",
     "output_type": "stream",
     "text": [
      "Finished long task 1\n",
      "Finished long task 2\n",
      "Finished long task 3\n",
      "Finished long task 4\n"
     ]
    }
   ],
   "source": [
    "import threading\n",
    "import time\n",
    "\n",
    "def long_task(i, x):\n",
    "    print(f\"Starting long task {i}, {x}\")\n",
    "    time.sleep(5)\n",
    "    print(f\"Finished long task {i}\")\n",
    "\n",
    "# 主程式迴圈\n",
    "for i in range(5):\n",
    "    print(f\"Main loop iteration {i}\")\n",
    "    thread = threading.Thread(target=long_task, args=(i:=i,x:=\"123\"))\n",
    "    thread.start()\n",
    "    # 不等待 long_task 完成，繼續迴圈\n",
    "    time.sleep(1)  # 模擬其他工作的時間\n",
    "    print(\"--\")\n",
    "\n",
    "print(\"Main loop completed\")\n"
   ]
  },
  {
   "cell_type": "code",
   "execution_count": 9,
   "metadata": {},
   "outputs": [
    {
     "name": "stdout",
     "output_type": "stream",
     "text": [
      "Main loop iteration 0\n",
      "--\n",
      "Main loop iteration 1\n",
      "--\n",
      "Main loop iteration 2\n",
      "--\n",
      "Main loop iteration 3\n",
      "--\n",
      "Main loop iteration 4\n",
      "--\n",
      "Main loop iteration 5\n",
      "--\n",
      "Main loop iteration 6\n",
      "--\n",
      "Main loop iteration 7\n",
      "--\n",
      "Main loop iteration 8\n",
      "--\n",
      "Main loop iteration 9\n",
      "--\n",
      "Main loop completed\n"
     ]
    }
   ],
   "source": [
    "from multiprocessing import Process\n",
    "import time\n",
    "\n",
    "def long_task(i):\n",
    "    print(f\"Starting long task {i}\")\n",
    "    time.sleep(5)\n",
    "    print(f\"Finished long task {i}\")\n",
    "\n",
    "# 主程式迴圈\n",
    "if __name__ == \"__main__\":\n",
    "    for i in range(10):\n",
    "        print(f\"Main loop iteration {i}\")\n",
    "        process = Process(target=long_task, args=(i,))\n",
    "        process.start()\n",
    "        # 不等待 long_task 完成，繼續迴圈\n",
    "        time.sleep(1)  # 模擬其他工作的時間\n",
    "        print(\"--\")\n",
    "\n",
    "    print(\"Main loop completed\")\n"
   ]
  }
 ],
 "metadata": {
  "kernelspec": {
   "display_name": "Python 3",
   "language": "python",
   "name": "python3"
  },
  "language_info": {
   "codemirror_mode": {
    "name": "ipython",
    "version": 3
   },
   "file_extension": ".py",
   "mimetype": "text/x-python",
   "name": "python",
   "nbconvert_exporter": "python",
   "pygments_lexer": "ipython3",
   "version": "3.10.11"
  }
 },
 "nbformat": 4,
 "nbformat_minor": 2
}
