{
 "cells": [
  {
   "cell_type": "code",
   "execution_count": 2,
   "id": "11c82a38",
   "metadata": {},
   "outputs": [],
   "source": [
    "import cv2\n",
    "import pyrealsense2 as rs\n",
    "import numpy as np\n",
    "from camCalibration import *\n",
    "from Modbus_DW import *\n",
    "from camera import *\n",
    "from demo import demo"
   ]
  },
  {
   "cell_type": "code",
   "execution_count": 2,
   "id": "minor-reform",
   "metadata": {},
   "outputs": [
    {
     "name": "stdout",
     "output_type": "stream",
     "text": [
      "connect success\n",
      "DRA is runing now\n",
      "read try: 0\n",
      "read try: 1\n"
     ]
    },
    {
     "data": {
      "text/plain": [
       "[171.672, 394.785, 763.431, -178.448, 1.785, -8.966]"
      ]
     },
     "execution_count": 2,
     "metadata": {},
     "output_type": "execute_result"
    }
   ],
   "source": [
    "c=connectRobot(SERVER_HOST = \"192.168.1.1\")\n",
    "pos = getRobotP(c)\n",
    "#save\n",
    "data = {}\n",
    "data['robotEnd'] = pos\n",
    "with open('robotEnd.yaml', 'w') as f:\n",
    "    yaml.dump(data, f)\n",
    "\n",
    "with open('robotEnd.yaml'  , 'r') as f:\n",
    "    data2 = yaml.load(f, Loader=yaml.Loader)\n",
    "data2['robotEnd']"
   ]
  },
  {
   "cell_type": "markdown",
   "id": "b9892890",
   "metadata": {},
   "source": [
    "## make calibration data"
   ]
  },
  {
   "cell_type": "code",
   "execution_count": 4,
   "id": "dated-blowing",
   "metadata": {},
   "outputs": [
    {
     "ename": "TypeError",
     "evalue": "'str' object is not callable",
     "output_type": "error",
     "traceback": [
      "\u001b[1;31m---------------------------------------------------------------------------\u001b[0m",
      "\u001b[1;31mTypeError\u001b[0m                                 Traceback (most recent call last)",
      "\u001b[1;32m<ipython-input-4-124ad681168f>\u001b[0m in \u001b[0;36m<module>\u001b[1;34m\u001b[0m\n\u001b[1;32m----> 1\u001b[1;33m \u001b[0mc\u001b[0m\u001b[1;33m=\u001b[0m\u001b[0mconnectRobot\u001b[0m\u001b[1;33m(\u001b[0m\u001b[0mSERVER_HOST\u001b[0m \u001b[1;33m=\u001b[0m \u001b[1;34m\"192.168.1.1\"\u001b[0m\u001b[1;33m)\u001b[0m\u001b[1;33m\u001b[0m\u001b[1;33m\u001b[0m\u001b[0m\n\u001b[0m\u001b[0;32m      2\u001b[0m \u001b[0mpos1\u001b[0m\u001b[1;33m=\u001b[0m\u001b[1;33m[\u001b[0m\u001b[1;36m294.016\u001b[0m\u001b[1;33m,\u001b[0m \u001b[1;36m69.194\u001b[0m\u001b[1;33m,\u001b[0m \u001b[1;36m726.437\u001b[0m\u001b[1;33m,\u001b[0m \u001b[1;36m178.57\u001b[0m\u001b[1;33m,\u001b[0m \u001b[1;36m0.17\u001b[0m\u001b[1;33m,\u001b[0m \u001b[1;33m-\u001b[0m\u001b[1;36m3.244\u001b[0m\u001b[1;33m]\u001b[0m\u001b[1;33m\u001b[0m\u001b[1;33m\u001b[0m\u001b[0m\n\u001b[0;32m      3\u001b[0m \u001b[1;31m# teachPoint(c,pos1)\u001b[0m\u001b[1;33m\u001b[0m\u001b[1;33m\u001b[0m\u001b[1;33m\u001b[0m\u001b[0m\n\u001b[0;32m      4\u001b[0m \u001b[1;31m# print(pos1)\u001b[0m\u001b[1;33m\u001b[0m\u001b[1;33m\u001b[0m\u001b[1;33m\u001b[0m\u001b[0m\n\u001b[0;32m      5\u001b[0m \u001b[0mpos\u001b[0m\u001b[1;33m=\u001b[0m\u001b[0mgetRobotP\u001b[0m\u001b[1;33m(\u001b[0m\u001b[0mc\u001b[0m\u001b[1;33m)\u001b[0m\u001b[1;33m\u001b[0m\u001b[1;33m\u001b[0m\u001b[0m\n",
      "\u001b[1;32m~\\Desktop\\HandeyePy\\Modbus_DW.py\u001b[0m in \u001b[0;36mconnectRobot\u001b[1;34m(SERVER_HOST, SERVER_PORT)\u001b[0m\n\u001b[0;32m     33\u001b[0m \u001b[1;33m\u001b[0m\u001b[0m\n\u001b[0;32m     34\u001b[0m     \u001b[1;31m# define modbus server host, port\u001b[0m\u001b[1;33m\u001b[0m\u001b[1;33m\u001b[0m\u001b[1;33m\u001b[0m\u001b[0m\n\u001b[1;32m---> 35\u001b[1;33m     \u001b[0mc\u001b[0m\u001b[1;33m.\u001b[0m\u001b[0mhost\u001b[0m\u001b[1;33m(\u001b[0m\u001b[0mSERVER_HOST\u001b[0m\u001b[1;33m)\u001b[0m\u001b[1;33m\u001b[0m\u001b[1;33m\u001b[0m\u001b[0m\n\u001b[0m\u001b[0;32m     36\u001b[0m     \u001b[0mc\u001b[0m\u001b[1;33m.\u001b[0m\u001b[0mport\u001b[0m\u001b[1;33m(\u001b[0m\u001b[0mSERVER_PORT\u001b[0m\u001b[1;33m)\u001b[0m\u001b[1;33m\u001b[0m\u001b[1;33m\u001b[0m\u001b[0m\n\u001b[0;32m     37\u001b[0m     \u001b[0mc\u001b[0m\u001b[1;33m.\u001b[0m\u001b[0munit_id\u001b[0m\u001b[1;33m(\u001b[0m\u001b[1;36m2\u001b[0m\u001b[1;33m)\u001b[0m\u001b[1;33m\u001b[0m\u001b[1;33m\u001b[0m\u001b[0m\n",
      "\u001b[1;31mTypeError\u001b[0m: 'str' object is not callable"
     ]
    }
   ],
   "source": [
    "c=connectRobot(SERVER_HOST = \"192.168.1.1\")\n",
    "pos1=[294.016, 69.194, 726.437, 178.57, 0.17, -3.244]\n",
    "# teachPoint(c,pos1)\n",
    "# print(pos1)\n",
    "pos=getRobotP(c)\n",
    "print(pos)\n",
    "# pos1=[354.016, 69.194, 726.437, 178.57, 0.17, -3.244]\n",
    "\n"
   ]
  },
  {
   "cell_type": "code",
   "execution_count": 4,
   "id": "b90a4091",
   "metadata": {
    "scrolled": true
   },
   "outputs": [
    {
     "name": "stdout",
     "output_type": "stream",
     "text": [
      "wait for move 0\n",
      "wait for move 1\n",
      "wait for move 2\n",
      "wait for move 3\n",
      "wait for move 4\n",
      "read try: 0\n",
      "[294.015, 69.193, 726.436, 178.569, 0.169, -3.243]\n",
      "目錄存在。\n",
      "內有: 0 對圖片\n",
      "start camera:\n",
      "目錄不存在。建一個目錄...\n",
      "wait for move 0\n",
      "wait for move 1\n",
      "wait for move 2\n",
      "wait for move 3\n",
      "wait for move 4\n",
      "read try: 0\n",
      "[304.015, 69.192, 726.435, 178.569, 0.17, -3.243]\n",
      "目錄存在。\n",
      "內有: 1 對圖片\n",
      "start camera:\n",
      "目錄存在。\n",
      "wait for move 0\n",
      "wait for move 1\n",
      "wait for move 2\n",
      "wait for move 3\n",
      "wait for move 4\n",
      "read try: 0\n",
      "[294.014, 49.194, 726.435, 178.57, 0.17, 11.756]\n",
      "目錄存在。\n",
      "內有: 2 對圖片\n",
      "start camera:\n",
      "目錄存在。\n",
      "wait for move 0\n",
      "wait for move 1\n",
      "wait for move 2\n",
      "wait for move 3\n",
      "wait for move 4\n",
      "read try: 0\n",
      "[294.015, 89.191, 726.435, 178.569, 0.169, -18.244]\n",
      "目錄存在。\n",
      "內有: 3 對圖片\n",
      "start camera:\n",
      "目錄存在。\n",
      "wait for move 0\n",
      "wait for move 1\n",
      "wait for move 2\n",
      "wait for move 3\n",
      "wait for move 4\n",
      "read try: 0\n",
      "[294.014, 79.194, 726.436, 178.57, 0.17, -3.243]\n",
      "目錄存在。\n",
      "內有: 4 對圖片\n",
      "start camera:\n",
      "目錄存在。\n",
      "wait for move 0\n",
      "wait for move 1\n",
      "wait for move 2\n",
      "wait for move 3\n",
      "wait for move 4\n",
      "read try: 0\n",
      "[294.015, 79.192, 736.435, 178.569, 0.17, -3.244]\n",
      "目錄存在。\n",
      "內有: 5 對圖片\n",
      "start camera:\n",
      "目錄存在。\n",
      "wait for move 0\n",
      "wait for move 1\n",
      "wait for move 2\n",
      "wait for move 3\n",
      "wait for move 4\n",
      "read try: 0\n",
      "[294.015, 49.192, 736.436, -171.43, 0.169, -3.243]\n",
      "目錄存在。\n",
      "內有: 6 對圖片\n",
      "start camera:\n",
      "目錄存在。\n",
      "wait for move 0\n",
      "wait for move 1\n",
      "wait for move 2\n",
      "wait for move 3\n",
      "wait for move 4\n",
      "read try: 0\n",
      "read try: 1\n",
      "[294.015, 19.192, 736.435, -171.429, 0.169, -3.243]\n",
      "目錄存在。\n",
      "內有: 7 對圖片\n",
      "start camera:\n",
      "目錄存在。\n",
      "wait for move 0\n",
      "wait for move 1\n",
      "wait for move 2\n",
      "wait for move 3\n",
      "wait for move 4\n",
      "read try: 0\n",
      "[294.014, 99.193, 736.436, 168.571, 0.17, -3.244]\n",
      "目錄存在。\n",
      "內有: 8 對圖片\n",
      "start camera:\n",
      "目錄存在。\n",
      "wait for move 0\n",
      "wait for move 1\n",
      "wait for move 2\n",
      "wait for move 3\n",
      "wait for move 4\n",
      "read try: 0\n",
      "[294.015, 139.19, 736.436, 168.569, 0.169, -3.244]\n",
      "目錄存在。\n",
      "內有: 9 對圖片\n",
      "start camera:\n",
      "目錄存在。\n",
      "wait for move 0\n",
      "wait for move 1\n",
      "wait for move 2\n",
      "wait for move 3\n",
      "wait for move 4\n",
      "read try: 0\n",
      "[374.014, 69.192, 726.435, 178.569, 10.169, -18.243]\n",
      "目錄存在。\n",
      "內有: 10 對圖片\n",
      "start camera:\n",
      "目錄存在。\n",
      "wait for move 0\n",
      "wait for move 1\n",
      "wait for move 2\n",
      "wait for move 3\n",
      "wait for move 4\n",
      "read try: 0\n",
      "[344.015, 69.193, 726.435, 178.57, 10.17, -3.243]\n",
      "目錄存在。\n",
      "內有: 11 對圖片\n",
      "start camera:\n",
      "目錄存在。\n",
      "wait for move 0\n",
      "wait for move 1\n",
      "wait for move 2\n",
      "wait for move 3\n",
      "wait for move 4\n",
      "read try: 0\n",
      "[344.015, 89.191, 726.435, 178.569, 10.169, -3.244]\n",
      "目錄存在。\n",
      "內有: 12 對圖片\n",
      "start camera:\n",
      "目錄存在。\n",
      "wait for move 0\n",
      "wait for move 1\n",
      "wait for move 2\n",
      "wait for move 3\n",
      "wait for move 4\n",
      "read try: 0\n",
      "[344.015, 89.193, 746.435, 178.57, 10.17, -3.243]\n",
      "目錄存在。\n",
      "內有: 13 對圖片\n",
      "start camera:\n",
      "目錄存在。\n",
      "wait for move 0\n",
      "wait for move 1\n",
      "wait for move 2\n",
      "wait for move 3\n",
      "wait for move 4\n",
      "read try: 0\n",
      "read try: 1\n",
      "[344.015, 39.193, 746.435, -171.43, 10.17, -3.243]\n",
      "目錄存在。\n",
      "內有: 14 對圖片\n",
      "start camera:\n",
      "目錄存在。\n",
      "wait for move 0\n",
      "wait for move 1\n",
      "wait for move 2\n",
      "wait for move 3\n",
      "wait for move 4\n",
      "read try: 0\n",
      "[344.014, 9.193, 746.436, -171.429, 10.169, -3.243]\n",
      "目錄存在。\n",
      "內有: 15 對圖片\n",
      "start camera:\n",
      "目錄存在。\n",
      "wait for move 0\n",
      "wait for move 1\n",
      "wait for move 2\n",
      "wait for move 3\n",
      "wait for move 4\n",
      "read try: 0\n",
      "[344.014, 89.193, 746.435, 168.571, 10.17, -3.244]\n",
      "目錄存在。\n",
      "內有: 16 對圖片\n",
      "start camera:\n",
      "目錄存在。\n",
      "wait for move 0\n",
      "wait for move 1\n",
      "wait for move 2\n",
      "wait for move 3\n",
      "wait for move 4\n",
      "read try: 0\n",
      "[344.015, 129.19, 746.436, 168.569, 10.169, -3.244]\n",
      "目錄存在。\n",
      "內有: 17 對圖片\n",
      "start camera:\n",
      "目錄存在。\n",
      "wait for move 0\n",
      "wait for move 1\n",
      "wait for move 2\n",
      "wait for move 3\n",
      "wait for move 4\n",
      "read try: 0\n",
      "[244.015, 69.191, 726.436, 178.569, -9.83, -3.244]\n",
      "目錄存在。\n",
      "內有: 18 對圖片\n",
      "start camera:\n",
      "目錄存在。\n",
      "wait for move 0\n",
      "wait for move 1\n",
      "wait for move 2\n",
      "wait for move 3\n",
      "wait for move 4\n",
      "read try: 0\n",
      "[244.014, 89.193, 726.436, 178.57, -9.829, -3.244]\n",
      "目錄存在。\n",
      "內有: 19 對圖片\n",
      "start camera:\n",
      "目錄存在。\n",
      "wait for move 0\n",
      "wait for move 1\n",
      "wait for move 2\n",
      "wait for move 3\n",
      "wait for move 4\n",
      "read try: 0\n",
      "[244.015, 89.192, 746.436, 178.569, -9.83, -3.243]\n",
      "目錄存在。\n",
      "內有: 20 對圖片\n",
      "start camera:\n",
      "目錄存在。\n",
      "wait for move 0\n",
      "wait for move 1\n",
      "wait for move 2\n",
      "wait for move 3\n",
      "wait for move 4\n",
      "read try: 0\n",
      "[244.015, 39.191, 746.435, -171.431, -9.83, -3.243]\n",
      "目錄存在。\n",
      "內有: 21 對圖片\n",
      "start camera:\n",
      "目錄存在。\n",
      "wait for move 0\n",
      "wait for move 1\n",
      "wait for move 2\n",
      "wait for move 3\n",
      "wait for move 4\n",
      "read try: 0\n",
      "[244.014, 9.19, 746.436, -171.43, -9.83, -3.243]\n",
      "目錄存在。\n",
      "內有: 22 對圖片\n",
      "start camera:\n",
      "目錄存在。\n",
      "wait for move 0\n",
      "wait for move 1\n",
      "wait for move 2\n",
      "wait for move 3\n",
      "wait for move 4\n",
      "read try: 0\n",
      "[244.014, 89.194, 746.435, 168.571, -9.829, -3.243]\n",
      "目錄存在。\n",
      "內有: 23 對圖片\n",
      "start camera:\n",
      "目錄存在。\n",
      "wait for move 0\n",
      "wait for move 1\n",
      "wait for move 2\n",
      "wait for move 3\n",
      "wait for move 4\n",
      "read try: 0\n",
      "[244.014, 129.192, 746.435, 168.57, -9.829, -3.244]\n",
      "目錄存在。\n",
      "內有: 24 對圖片\n",
      "start camera:\n",
      "目錄存在。\n"
     ]
    }
   ],
   "source": [
    "makeCamset(c,path=\"picture/Demo\",pixel=\"high\",p0=pos,align=True)   #p0=pos\n",
    "# # teachPoint(c,pos)"
   ]
  },
  {
   "cell_type": "code",
   "execution_count": null,
   "id": "3a435dbd",
   "metadata": {},
   "outputs": [],
   "source": []
  },
  {
   "cell_type": "code",
   "execution_count": 3,
   "id": "apart-meditation",
   "metadata": {},
   "outputs": [
    {
     "name": "stdout",
     "output_type": "stream",
     "text": [
      "{'CameraTool_Angle': 30.877102701429383, 'CameraTool_Height': 159.3441456764351, 'CameraTool_Rx': -0.4010061372870978, 'CameraTool_Ry': 0.904995180312444, 'CameraTool_Rz': 87.62910560491574, 'CameraTool_Width': 103.10175044208098}\n"
     ]
    }
   ],
   "source": [
    "path=\"./picture/11_29_2\"\n",
    "with open(path+\"/data/HandEye.yaml\", 'r') as f:\n",
    "    data = yaml.load(f, Loader=yaml.Loader)\n",
    "print(data)"
   ]
  },
  {
   "cell_type": "markdown",
   "id": "8f546b8e",
   "metadata": {},
   "source": [
    "## run Hand Eye calibration"
   ]
  },
  {
   "cell_type": "code",
   "execution_count": 6,
   "id": "static-aberdeen",
   "metadata": {},
   "outputs": [
    {
     "name": "stdout",
     "output_type": "stream",
     "text": [
      "[[964.14536251   0.         617.4905916 ]\n",
      " [  0.         963.96259412 369.68404351]\n",
      " [  0.           0.           1.        ]]\n",
      "[[ 0.15437546 -0.06680524  0.00748756 -0.01206885 -0.77194777]]\n",
      "error: 0.3063435267539898\n",
      "distortion: [[ 0.15437546 -0.06680524  0.00748756 -0.01206885 -0.77194777]]\n",
      "目錄存在。\n",
      "write charuco pose finish with  25 imgs\n",
      "Rotation matrix tool frame\n",
      " [[ 0.04513774 -0.99813759  0.04103583]\n",
      " [ 0.99879771  0.04587775  0.01727354]\n",
      " [-0.019124    0.04020681  0.99900835]]\n",
      "Trans matrix tool frame\n",
      " [[ 81.41382969]\n",
      " [ 45.50357665]\n",
      " [156.98592162]]\n",
      "Camera Tool Size:\n",
      " Width(mm):  93.26728876118096  Height(mm):  156.98592161733077  Angle(degree):  29.201568631249955\n",
      "Camera Tool Orientation:\n",
      " Rx:  2.3047232292507926  Ry:  1.0957911164791276  Rz:  87.41244554926787\n",
      "connect success\n",
      "DRA is runing now\n",
      "[93.26728876118096, 156.98592161733077, 29.201568631249955, 2.3047232292507926, 1.0957911164791276, 87.41244554926787]\n"
     ]
    }
   ],
   "source": [
    "cam1=Charuco()\n",
    "cam1.Calibration(imgPath=\"./picture/Demo\",show=False)\n",
    "# cam1.Calibration(imgPath=\"./picture/12_17\",show=True)\n",
    "cam1.HandEyeCalibration_EyeInHand()#new 按照數字讀圖\n",
    "\n",
    "c=connectRobot(SERVER_HOST = \"192.168.1.1\")\n",
    "RWTool(c,path=\"./picture/Demo\")"
   ]
  },
  {
   "cell_type": "code",
   "execution_count": 7,
   "id": "stylish-issue",
   "metadata": {},
   "outputs": [
    {
     "name": "stdout",
     "output_type": "stream",
     "text": [
      "{'CameraTool_Angle': 29.201568631249955, 'CameraTool_Height': 156.98592161733077, 'CameraTool_Rx': 2.3047232292507926, 'CameraTool_Ry': 1.0957911164791276, 'CameraTool_Rz': 87.41244554926787, 'CameraTool_Width': 93.26728876118096}\n"
     ]
    }
   ],
   "source": [
    "path=\"./picture/Demo\"\n",
    "with open(path+\"/data/HandEye.yaml\", 'r') as f:\n",
    "    data = yaml.load(f, Loader=yaml.Loader)\n",
    "print(data)"
   ]
  },
  {
   "cell_type": "markdown",
   "id": "931a354b",
   "metadata": {},
   "source": [
    "## demo UF"
   ]
  },
  {
   "cell_type": "code",
   "execution_count": 2,
   "id": "82207125",
   "metadata": {},
   "outputs": [
    {
     "name": "stdout",
     "output_type": "stream",
     "text": [
      "hello\n",
      "{'ARUCO_size': 6, 'dist': array([[ 0.16269981, -0.21051283,  0.00716262, -0.00676228, -0.26399864]]), 'iMtx': array([[947.35677163,   0.        , 631.87979122],\n",
      "       [  0.        , 949.73990136, 367.38558855],\n",
      "       [  0.        ,   0.        ,   1.        ]]), 'markerL': 0.015, 'squareL': 0.02, 'x': 9, 'y': 12}\n",
      "connect success\n",
      "DRA is runing now\n",
      "UF: [19.545109794176312, -97.8309533098665, 625.4827353413757, -179.83718701900858, -1.0809675415579985, 82.71429378886296]\n",
      "read try: 0\n",
      "UF origin, x, y = [410.42806713498413, 15.249178075140335, -26.556666670385084] [310.48366872  12.83335597 -24.25861779   1.        ] [412.87132008 -84.71408621 -25.38350516   1.        ]\n"
     ]
    }
   ],
   "source": [
    "pipeline=startCamera()\n",
    "# run=demo(\"./picture/8_9\")\n",
    "run=demo(\"./picture/11_29_2\")\n",
    "c=connectRobot(SERVER_HOST = \"192.168.1.1\")\n",
    "\n",
    "try:\n",
    "    while True:\n",
    "        Cam,colorImg,depthImg=CameraStream(pipeline)\n",
    "        if(Cam==0):#esc\n",
    "            break\n",
    "        elif(Cam==1):\n",
    "            continue\n",
    "        elif(Cam==3):#press 1\n",
    "            #print(\"1\")\n",
    "            a,UF=run.getSinglePose(colorImg)\n",
    "            print(\"UF:\",UF)\n",
    "            o,x,y=run.calUF(c)\n",
    "            print(\"UF origin, x, y =\",o,x,y)\n",
    "            setUF(c,o,x,y)\n",
    "            #setUF(c,UF[0],UF[1],UF[2],TF=7)\n",
    "#             pointBoardPose(c)\n",
    "#             teachPoint(c,[437.195, -50.004, 570.37, 177.131, -1.512, -2.359])#origin\n",
    "            graspDemo(c)\n",
    "        else:\n",
    "#             print(\"123\")\n",
    "            continue\n",
    "        \n",
    "finally:\n",
    "\n",
    "    # Stop streaming\n",
    "    pipeline.stop()\n",
    "    cv2.destroyAllWindows()\n",
    "    #closeRobot(c)"
   ]
  },
  {
   "cell_type": "code",
   "execution_count": 6,
   "id": "driven-sauce",
   "metadata": {},
   "outputs": [
    {
     "name": "stdout",
     "output_type": "stream",
     "text": [
      "52.91109929311299\n"
     ]
    },
    {
     "data": {
      "text/plain": [
       "-0.5132149761245706"
      ]
     },
     "execution_count": 6,
     "metadata": {},
     "output_type": "execute_result"
    }
   ],
   "source": [
    "Tool=[103.101, 159.344, 30.877, -0.401, 0.904, 87.629]\n",
    "deg2reg=math.pi/180\n",
    "print(Tool[0]*math.sin(Tool[2]*deg2reg))\n",
    "\n",
    "math.sin(Tool[2])"
   ]
  },
  {
   "cell_type": "code",
   "execution_count": null,
   "id": "timely-character",
   "metadata": {},
   "outputs": [],
   "source": [
    "# UF.shape\n",
    "#changeUF(c,UF=0)  #board UF=8\n",
    "# changeTF(c,TF=0) #camera tool frame = 7,筷子=8\n"
   ]
  },
  {
   "cell_type": "code",
   "execution_count": 2,
   "id": "0a1dcd30",
   "metadata": {},
   "outputs": [],
   "source": [
    "# def pointBoardPose(c):\n",
    "# #     changeUF(c,UF=8)  #board UF=8\n",
    "# #     changeTF(c,TF=7)\n",
    "# #     teachPoint(c,[437.195, -50.004, 570.37, 177.131, -1.512, -2.359])#origin\n",
    "#     teachPoint(c,[0.,0.,30.,0.,0.,0.],TF=8,UF=8)\n",
    "#     pos=getRobotP(c)\n",
    "#     teachPoint(c,[0.,50.,30.,0.,0.,0.],TF=8,UF=8)\n",
    "#     pos=getRobotP(c)\n",
    "#     teachPoint(c,[0.,0.,30.,0.,0.,0.],TF=8,UF=8)\n",
    "#     pos=getRobotP(c)\n",
    "#     teachPoint(c,[50.,0.,30.,0.,0.,0.],TF=8,UF=8)\n",
    "#     pos=getRobotP(c)\n"
   ]
  },
  {
   "cell_type": "markdown",
   "id": "eff3511a",
   "metadata": {},
   "source": [
    "## calculate UF"
   ]
  },
  {
   "cell_type": "code",
   "execution_count": 23,
   "id": "d2215abe",
   "metadata": {},
   "outputs": [
    {
     "name": "stdout",
     "output_type": "stream",
     "text": [
      "[101.481, 42.304, -19.246, -0.461, 1.994, 87.835]\n"
     ]
    },
    {
     "data": {
      "text/plain": [
       "array([ 557.28949903, -241.4230152 ,  145.79091209,    1.        ])"
      ]
     },
     "execution_count": 23,
     "metadata": {},
     "output_type": "execute_result"
    }
   ],
   "source": [
    "# Tco=euler2H(UF[0])\n",
    "# # --Cal Tbe--\n",
    "# changeUF(c,UF=0)\n",
    "# changeTF(c,TF=0)\n",
    "# pos=getRobotP(c)\n",
    "# Tbe=euler2H(pos)\n",
    "\n",
    "# # --ChangeTF(_TFidx)\n",
    "# # --Get Camera TF--\n",
    "# # Width, Height, Angle, Roll, Pitch, Yaw = GetTF(_TFidx)\n",
    "# Tool=getTF(c,TF=7)\n",
    "# print(Tool)\n",
    "# # Tx=Width*COS(Angle)\n",
    "# Tx=Tool[0]*math.cos(Tool[2])\n",
    "# # Ty=Width*SIN(Angle)\n",
    "# Ty=Tool[0]*math.sin(Tool[2])\n",
    "# # Tec=PO2H(Tx,Ty,Height,Yaw,Pitch,Roll)\n",
    "# Tec=euler2H([Tx,Ty,Tool[1],Tool[3],Tool[4],Tool[5]])\n",
    "\n",
    "# # --Cal UF--\n",
    "# axisX=np.array([100,0,0,1])\n",
    "# axisY=np.array([0,100,0,1])\n",
    "# Tbc=Tbe.dot(Tec)\n",
    "# Tbo=Tbc.dot(Tco)\n",
    "# UF_O=[Tbo[0][3],Tbo[1][3],Tbo[2][3]]\n",
    "# # UF_X=matrix.mul(Tbo,axisX)\n",
    "# UF_X=Tbo.dot(axisX)\n",
    "# # UF_Y=matrix.mul(Tbo,axisY)\n",
    "# UF_Y=Tbo.dot(axisY)\n",
    "\n",
    "# # JRC = {0,0,0,0,0,1,0,1}\n",
    "# # SetGlobalPoint(1,\"GL_1\",UF_O[1], UF_O[2],UF_O[3],0,0,0,0,0,0,0,0,JRC)\n",
    "# # SetGlobalPoint(2,\"GL_2\",UF_X[1][1], UF_X[2][1],UF_X[3][1],0,0,0,0,0,0,0,0,JRC)\n",
    "# # SetGlobalPoint(3,\"GL_3\",UF_Y[1][1], UF_Y[2][1],UF_Y[3][1],0,0,0,0,0,0,0,0,JRC)\n",
    "# # SetUF(_UFidx,1,2,3,1)\n",
    "\n",
    "# # ChangeUF(_UFidx)\n",
    "# # ChangeTF(_TFidx)"
   ]
  },
  {
   "cell_type": "markdown",
   "id": "ba8e7733",
   "metadata": {},
   "source": [
    "## setUF"
   ]
  },
  {
   "cell_type": "code",
   "execution_count": 29,
   "id": "f5547c8d",
   "metadata": {},
   "outputs": [
    {
     "data": {
      "text/plain": [
       "<bound method ModbusClient.close of <pyModbusTCP.client.ModbusClient object at 0x0600EE80>>"
      ]
     },
     "execution_count": 29,
     "metadata": {},
     "output_type": "execute_result"
    }
   ],
   "source": [
    "# # setUF(c,o,x,y,TF=0)\n",
    "# TF=0\n",
    "# c.open()\n",
    "# #o\n",
    "# pos=float2int(UF_O)\n",
    "# for i in range(3):\n",
    "#     c.write_multiple_registers((0x1210+2*i), intL2DRA(pos[i]))\n",
    "# c.write_multiple_registers(0x121C, int2DRA(TF))#TF\n",
    "# c.write_multiple_registers(0x121D, int2DRA(0))#UF\n",
    "\n",
    "# #x\n",
    "# pos=float2int(UF_X)\n",
    "# for i in range(3):\n",
    "#     c.write_multiple_registers((0x1220+2*i), intL2DRA(pos[i]))\n",
    "# c.write_multiple_registers(0x122C, int2DRA(TF))#TF\n",
    "# c.write_multiple_registers(0x122D, int2DRA(0))#UF\n",
    "# #y\n",
    "# pos=float2int(UF_Y)\n",
    "# for i in range(3):\n",
    "#     c.write_multiple_registers((0x1230+2*i), intL2DRA(pos[i]))\n",
    "# c.write_multiple_registers(0x123C, int2DRA(TF))#TF\n",
    "# c.write_multiple_registers(0x123D, int2DRA(0))#UF\n",
    "\n",
    "# c.write_multiple_registers(0x121F, int2DRA(8))#UF\n",
    "# c.write_multiple_registers(0x1001, int2DRA(5))#tell dra to run\n",
    "# time.sleep(1)\n",
    "\n",
    "# c.write_multiple_registers(0x1001, int2DRA(0))\n",
    "# c.close   "
   ]
  },
  {
   "cell_type": "code",
   "execution_count": 13,
   "id": "3f42401c",
   "metadata": {},
   "outputs": [
    {
     "name": "stdout",
     "output_type": "stream",
     "text": [
      "wait for move 0\n",
      "wait for move 1\n",
      "wait for move 2\n",
      "wait for move 3\n",
      "wait for move 4\n",
      "wait for move 0\n",
      "wait for move 1\n",
      "wait for move 2\n",
      "wait for move 3\n",
      "wait for move 4\n"
     ]
    }
   ],
   "source": [
    "# teachPoint(c,[171.672, 394.786, 583.037, -178.449, 1.786, -8.965])\n",
    "# c.open()\n",
    "# c.write_multiple_registers(0x1001, int2DRA(9))\n",
    "# time.sleep(2)\n",
    "# c.write_multiple_registers(0x1001, int2DRA(0))\n",
    "# c.close \n",
    "\n",
    "graspDemo(c)"
   ]
  },
  {
   "cell_type": "code",
   "execution_count": 4,
   "id": "f37aad6a",
   "metadata": {},
   "outputs": [
    {
     "name": "stdout",
     "output_type": "stream",
     "text": [
      "read try: 0\n"
     ]
    }
   ],
   "source": [
    "pos=getRobotP(c)\n",
    "Tbe=euler2H(pos)\n",
    "\n",
    "# --ChangeTF(_TFidx)\n",
    "# --Get Camera TF--\n",
    "# Width, Height, Angle, Roll, Pitch, Yaw = GetTF(_TFidx)\n",
    "Tool=getTF(c,TF=2)\n",
    "\n",
    "# Tx=Width*COS(Angle)\n",
    "deg2reg=math.pi/180\n",
    "Tx=Tool[0]*math.cos(Tool[2]*deg2reg)\n",
    "# Ty=Width*SIN(Angle)\n",
    "Ty=Tool[0]*math.sin(Tool[2]*deg2reg)\n",
    "# Tec=PO2H(Tx,Ty,Height,Yaw,Pitch,Roll)\n",
    "Tec=euler2H([Tx,Ty,Tool[1],Tool[3],Tool[4],Tool[5]])\n",
    "\n",
    "# --Cal UF--\n",
    "axisX=np.array([100,0,0,1])\n",
    "axisY=np.array([0,100,0,1])\n",
    "Tbc=Tbe.dot(Tec)"
   ]
  },
  {
   "cell_type": "code",
   "execution_count": 5,
   "id": "ahead-bulgaria",
   "metadata": {},
   "outputs": [
    {
     "data": {
      "text/plain": [
       "array([[-1.15195111e-01, -9.92714533e-01, -3.53262419e-02,\n",
       "         2.46518224e+02],\n",
       "       [-9.93263570e-01,  1.14663651e-01,  1.67250801e-02,\n",
       "         3.33797647e+02],\n",
       "       [-1.25525942e-02,  3.70149166e-02, -9.99235872e-01,\n",
       "         6.00033441e+02],\n",
       "       [ 0.00000000e+00,  0.00000000e+00,  0.00000000e+00,\n",
       "         1.00000000e+00]])"
      ]
     },
     "execution_count": 5,
     "metadata": {},
     "output_type": "execute_result"
    }
   ],
   "source": [
    "Tbc"
   ]
  },
  {
   "cell_type": "code",
   "execution_count": 6,
   "id": "turned-induction",
   "metadata": {},
   "outputs": [],
   "source": [
    "import yaml\n",
    "path='../python_code/realsense/'\n",
    "data={}\n",
    "data['matrix']=Tbc\n",
    "with open(path+'right_init_high.yaml', 'w') as f:\n",
    "        yaml.dump(data, f)"
   ]
  },
  {
   "cell_type": "code",
   "execution_count": null,
   "id": "wrong-relations",
   "metadata": {},
   "outputs": [],
   "source": []
  }
 ],
 "metadata": {
  "kernelspec": {
   "display_name": "Python 3",
   "language": "python",
   "name": "python3"
  },
  "language_info": {
   "codemirror_mode": {
    "name": "ipython",
    "version": 3
   },
   "file_extension": ".py",
   "mimetype": "text/x-python",
   "name": "python",
   "nbconvert_exporter": "python",
   "pygments_lexer": "ipython3",
   "version": "3.6.8"
  }
 },
 "nbformat": 4,
 "nbformat_minor": 5
}
