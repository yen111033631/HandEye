{
 "cells": [
  {
   "cell_type": "code",
   "execution_count": null,
   "id": "912b1fa2",
   "metadata": {},
   "outputs": [],
   "source": [
    "# [[919.5861236    0.         641.38367948]\n",
    "#  [  0.         924.60020836 352.86391377]\n",
    "#  [  0.           0.           1.        ]]\n",
    "# [[ 0.14943493 -0.23997318  0.00054742 -0.00434003 -0.28933569]]\n",
    "# error: 0.32133489939044263\n",
    "# distortion: [[ 0.14943493 -0.23997318  0.00054742 -0.00434003 -0.28933569]]\n",
    "# 目錄存在。\n",
    "# write charuco pose finish with  22 imgs\n",
    "# Camera Tool Size:\n",
    "#  Width(mm):  104.34001611149618  Height(mm):  41.11848553464706  Angle(degree):  -19.616746159823723\n",
    "# Camera Tool Orientation:\n",
    "#  Rx:  0.0017863385088532323  Ry:  0.2032609565288365  Rz:  87.88670891951666"
   ]
  },
  {
   "cell_type": "code",
   "execution_count": 9,
   "id": "ec29c370",
   "metadata": {},
   "outputs": [
    {
     "name": "stdout",
     "output_type": "stream",
     "text": [
      "[[917.31791866   0.         640.58334633]\n",
      " [  0.         921.29657002 351.55788766]\n",
      " [  0.           0.           1.        ]]\n",
      "[[ 9.31302546e-02  2.88921840e-01  5.60167537e-04 -5.47268159e-03\n",
      "  -1.63561171e+00]]\n",
      "error: 0.3216717748710815\n",
      "distortion: [[ 9.31302546e-02  2.88921840e-01  5.60167537e-04 -5.47268159e-03\n",
      "  -1.63561171e+00]]\n",
      "目錄存在。\n",
      "write charuco pose finish with  25 imgs\n",
      "Camera Tool Size:\n",
      " Width(mm):  102.90229300123517  Height(mm):  37.05430555438235  Angle(degree):  -17.037969188668907\n",
      "Camera Tool Orientation:\n",
      " Rx:  -0.03684360466233889  Ry:  -0.5139679622380616  Rz:  87.99906944235656\n"
     ]
    }
   ],
   "source": [
    "from camCalibration import *\n",
    "\n",
    "cam1=Charuco()\n",
    "#cam1.readCameraConfig(\"./pic_highres/data\")\n",
    "# cam1.Calibration(imgPath=\"./8_3_high\",show=False)\n",
    "# cam1.HandEyeCalibration_HandInEye()#new 按照數字讀圖\n",
    "# cam1=Charuco()\n",
    "#cam1.readCameraConfig(\"./pic_highres/data\")\n",
    "cam1.Calibration(imgPath=\"./8_3_3_high\",show=False)\n",
    "cam1.HandEyeCalibration_EyeInHand()#new 按照數字讀圖\n",
    "\n"
   ]
  },
  {
   "cell_type": "code",
   "execution_count": 3,
   "id": "7e68762d",
   "metadata": {},
   "outputs": [
    {
     "name": "stdout",
     "output_type": "stream",
     "text": [
      "[[921.45383042   0.         637.64599033]\n",
      " [  0.         924.49414357 348.71998379]\n",
      " [  0.           0.           1.        ]]\n",
      "[[ 1.20551352e-01  9.72967150e-03 -5.04358549e-04 -6.95081299e-03\n",
      "  -7.07844673e-01]]\n",
      "error: 0.32280209231935963\n",
      "distortion: [[ 1.20551352e-01  9.72967150e-03 -5.04358549e-04 -6.95081299e-03\n",
      "  -7.07844673e-01]]\n",
      "目錄存在。\n",
      "write charuco pose finish with  22 imgs\n",
      "Camera Tool Size:\n",
      " Width(mm):  104.1702683932872  Height(mm):  34.57964793127251  Angle(degree):  -19.584002370867786\n",
      "Camera Tool Orientation:\n",
      " Rx:  0.4228246014861713  Ry:  -0.2928115405784626  Rz:  88.37027613792884\n",
      "[[921.66608724   0.         638.74617801]\n",
      " [  0.         924.97612261 352.76633002]\n",
      " [  0.           0.           1.        ]]\n",
      "[[ 1.24481242e-01 -1.02747825e-02  5.74798944e-04 -6.51290512e-03\n",
      "  -7.09304751e-01]]\n",
      "error: 0.31596269584123504\n",
      "distortion: [[ 1.24481242e-01 -1.02747825e-02  5.74798944e-04 -6.51290512e-03\n",
      "  -7.09304751e-01]]\n",
      "目錄存在。\n",
      "write charuco pose finish with  22 imgs\n",
      "Camera Tool Size:\n",
      " Width(mm):  105.14929200433195  Height(mm):  34.60668370547071  Angle(degree):  -19.148196577035517\n",
      "Camera Tool Orientation:\n",
      " Rx:  0.14336376236205645  Ry:  -0.1533922873226537  Rz:  88.07655443545292\n"
     ]
    }
   ],
   "source": [
    "from camCalibration import *\n",
    "cam1=Charuco()\n",
    "#cam1.readCameraConfig(\"./pic_highres/data\")\n",
    "cam1.Calibration(imgPath=\"./8_3_2_high\",show=False)\n",
    "cam1.HandEyeCalibration_EyeInHand()#new 按照數字讀圖\n",
    "cam1=Charuco()\n",
    "#cam1.readCameraConfig(\"./pic_highres/data\")\n",
    "cam1.Calibration(imgPath=\"./8_3_2_high2\",show=False)\n",
    "cam1.HandEyeCalibration_EyeInHand()#new 按照數字讀圖"
   ]
  },
  {
   "cell_type": "code",
   "execution_count": 7,
   "id": "2415047d",
   "metadata": {},
   "outputs": [
    {
     "name": "stdout",
     "output_type": "stream",
     "text": [
      "[[611.29633273   0.         320.28558664]\n",
      " [  0.         613.94552229 234.40940698]\n",
      " [  0.           0.           1.        ]]\n",
      "[[ 8.84100125e-02  3.27931698e-01  3.25481225e-04 -5.33713569e-03\n",
      "  -1.76261118e+00]]\n",
      "error: 0.20042274540945584\n",
      "distortion: [[ 8.84100125e-02  3.27931698e-01  3.25481225e-04 -5.33713569e-03\n",
      "  -1.76261118e+00]]\n",
      "目錄存在。\n",
      "write charuco pose finish with  22 imgs\n",
      "Camera Tool Size:\n",
      " Width(mm):  106.17156357421382  Height(mm):  36.85710647293746  Angle(degree):  -19.063449186544947\n",
      "Camera Tool Orientation:\n",
      " Rx:  -0.08682163144496063  Ry:  0.07005692450786968  Rz:  88.13308493127882\n",
      "[[612.76429695   0.         321.0474957 ]\n",
      " [  0.         615.24187295 235.59064389]\n",
      " [  0.           0.           1.        ]]\n",
      "[[ 8.29202648e-02  3.72549342e-01  4.75518435e-04 -5.02401254e-03\n",
      "  -1.85039028e+00]]\n",
      "error: 0.21468018977057463\n",
      "distortion: [[ 8.29202648e-02  3.72549342e-01  4.75518435e-04 -5.02401254e-03\n",
      "  -1.85039028e+00]]\n",
      "目錄存在。\n",
      "write charuco pose finish with  18 imgs\n",
      "Camera Tool Size:\n",
      " Width(mm):  103.74913560376753  Height(mm):  31.88709595390086  Angle(degree):  -17.555719838643707\n",
      "Camera Tool Orientation:\n",
      " Rx:  -0.21932510245319295  Ry:  -0.5050633438349573  Rz:  87.75464198615256\n"
     ]
    }
   ],
   "source": [
    "from camCalibration import *\n",
    "cam2=Charuco()\n",
    "# cam2.readCameraConfig(\"./pic_highres/data\")\n",
    "# cam2.squaresY\n",
    "cam2.Calibration(imgPath=\"./8_3_low\",show=False)\n",
    "cam2.HandEyeCalibration_EyeInHand()\n",
    "cam4=Charuco()\n",
    "# cam2.readCameraConfig(\"./pic_highres/data\")\n",
    "# cam2.squaresY\n",
    "cam4.Calibration(imgPath=\"./8_3_low2\",show=False)\n",
    "cam4.HandEyeCalibration_EyeInHand()"
   ]
  },
  {
   "cell_type": "code",
   "execution_count": 8,
   "id": "fb9e93f3",
   "metadata": {},
   "outputs": [
    {
     "name": "stdout",
     "output_type": "stream",
     "text": [
      "[[609.85183091   0.         321.22712177]\n",
      " [  0.         612.48042607 234.50888008]\n",
      " [  0.           0.           1.        ]]\n",
      "[[ 8.05671005e-02  3.92328920e-01  2.43330555e-04 -4.89112636e-03\n",
      "  -1.93538029e+00]]\n",
      "error: 0.2072915277809871\n",
      "distortion: [[ 8.05671005e-02  3.92328920e-01  2.43330555e-04 -4.89112636e-03\n",
      "  -1.93538029e+00]]\n",
      "目錄存在。\n",
      "write charuco pose finish with  25 imgs\n",
      "Camera Tool Size:\n",
      " Width(mm):  103.95249120210728  Height(mm):  36.1675436727929  Angle(degree):  -17.446912129179132\n",
      "Camera Tool Orientation:\n",
      " Rx:  -0.11218809899833701  Ry:  -0.29064356311091244  Rz:  87.9933291032136\n"
     ]
    }
   ],
   "source": [
    "cam4=Charuco()\n",
    "# cam2.readCameraConfig(\"./pic_highres/data\")\n",
    "# cam2.squaresY\n",
    "cam4.Calibration(imgPath=\"./8_3_low2\",show=False)\n",
    "cam4.HandEyeCalibration_EyeInHand()"
   ]
  },
  {
   "cell_type": "code",
   "execution_count": 1,
   "id": "7f171b7d",
   "metadata": {},
   "outputs": [
    {
     "name": "stdout",
     "output_type": "stream",
     "text": [
      "[[918.59202535   0.         640.54031716]\n",
      " [  0.         923.48282643 351.7056176 ]\n",
      " [  0.           0.           1.        ]]\n",
      "[[ 1.42872707e-01 -1.82161926e-01  3.92874072e-04 -4.68419856e-03\n",
      "  -4.28553845e-01]]\n",
      "error: 0.32691430943860716\n",
      "目錄存在。\n",
      "write charuco pose finish with  22 imgs\n",
      "Camera Tool Size:\n",
      " Width(mm):  19.426704590556717  Height(mm):  224.25886544247751  Angle(degree):  -90.0\n",
      "Camera Tool Orientation:\n",
      " Rx:  10.515607818338209  Ry:  5.150692527764665  Rz:  -71.22552101394811\n",
      "[[919.58612434   0.         641.38368059]\n",
      " [  0.         924.60020915 352.86391314]\n",
      " [  0.           0.           1.        ]]\n",
      "[[ 0.14943493 -0.23997318  0.00054742 -0.00434003 -0.28933568]]\n",
      "error: 0.32133489939044263\n",
      "目錄存在。\n",
      "write charuco pose finish with  22 imgs\n",
      "Camera Tool Size:\n",
      " Width(mm):  19.625569602615336  Height(mm):  224.0010952553457  Angle(degree):  -90.0\n",
      "Camera Tool Orientation:\n",
      " Rx:  9.297969484740927  Ry:  1.8748052235224018  Rz:  -71.07495064324132\n"
     ]
    }
   ],
   "source": [
    "from camCalibration import *\n",
    "cam2=Charuco()\n",
    "# cam2.readCameraConfig(\"./pic_highres/data\")\n",
    "# cam2.squaresY\n",
    "cam2.Calibration(imgPath=\"./8_3_high\",show=False)\n",
    "cam2.HandEyeCalibration_HandInEye()#old 按照glob讀圖順序\n",
    "cam4=Charuco()\n",
    "# cam2.readCameraConfig(\"./pic_highres/data\")\n",
    "# cam2.squaresY\n",
    "cam4.Calibration(imgPath=\"./8_3_high2\",show=False)\n",
    "cam4.HandEyeCalibration_HandInEye()#old 按照glob讀圖順序"
   ]
  },
  {
   "cell_type": "code",
   "execution_count": 23,
   "id": "fe8d410a",
   "metadata": {},
   "outputs": [
    {
     "data": {
      "text/plain": [
       "22"
      ]
     },
     "execution_count": 23,
     "metadata": {},
     "output_type": "execute_result"
    }
   ],
   "source": [
    "# a=readtxt('pic3/data/robot.txt')\n",
    "a=readtxt('pic_highres/data/CameraPose.txt')\n",
    "b=readtxt('pic_highres/data/Robot.txt')\n",
    "len(b)\n"
   ]
  },
  {
   "cell_type": "code",
   "execution_count": 19,
   "id": "ac320428",
   "metadata": {
    "scrolled": true
   },
   "outputs": [
    {
     "ename": "AttributeError",
     "evalue": "'int' object has no attribute 'shape'",
     "output_type": "error",
     "traceback": [
      "\u001b[1;31m---------------------------------------------------------------------------\u001b[0m",
      "\u001b[1;31mAttributeError\u001b[0m                            Traceback (most recent call last)",
      "\u001b[1;32m~\\AppData\\Local\\Temp/ipykernel_12060/3547922135.py\u001b[0m in \u001b[0;36m<module>\u001b[1;34m\u001b[0m\n\u001b[1;32m----> 1\u001b[1;33m \u001b[0mprint\u001b[0m\u001b[1;33m(\u001b[0m\u001b[0ma\u001b[0m\u001b[1;33m.\u001b[0m\u001b[0mshape\u001b[0m\u001b[1;33m,\u001b[0m\u001b[0mb\u001b[0m\u001b[1;33m.\u001b[0m\u001b[0mshape\u001b[0m\u001b[1;33m)\u001b[0m\u001b[1;33m\u001b[0m\u001b[1;33m\u001b[0m\u001b[0m\n\u001b[0m",
      "\u001b[1;31mAttributeError\u001b[0m: 'int' object has no attribute 'shape'"
     ]
    }
   ],
   "source": [
    "print(a.shape,b.shape)"
   ]
  },
  {
   "cell_type": "code",
   "execution_count": 6,
   "id": "64977e8f",
   "metadata": {},
   "outputs": [
    {
     "name": "stdout",
     "output_type": "stream",
     "text": [
      "[[1 2 3]\n",
      " [4 5 6]]\n",
      "6\n"
     ]
    }
   ],
   "source": [
    "import math\n",
    "import numpy as np\n",
    "import cv2\n",
    "    \n",
    "a=np.array([[1,2,3],[4,5,6]])\n",
    "print(a)\n",
    "print(a[1,2])\n",
    "#HandEyeCalibration_HandInEye()"
   ]
  },
  {
   "cell_type": "code",
   "execution_count": 8,
   "id": "a4e600d9",
   "metadata": {},
   "outputs": [
    {
     "name": "stdout",
     "output_type": "stream",
     "text": [
      "['./8_3_high2\\\\001_color.jpg', './8_3_high2\\\\002_color.jpg', './8_3_high2\\\\003_color.jpg', './8_3_high2\\\\004_color.jpg', './8_3_high2\\\\005_color.jpg', './8_3_high2\\\\006_color.jpg', './8_3_high2\\\\007_color.jpg', './8_3_high2\\\\008_color.jpg', './8_3_high2\\\\009_color.jpg', './8_3_high2\\\\010_color.jpg', './8_3_high2\\\\011_color.jpg', './8_3_high2\\\\012_color.jpg', './8_3_high2\\\\013_color.jpg', './8_3_high2\\\\014_color.jpg', './8_3_high2\\\\015_color.jpg', './8_3_high2\\\\016_color.jpg', './8_3_high2\\\\017_color.jpg', './8_3_high2\\\\018_color.jpg', './8_3_high2\\\\019_color.jpg', './8_3_high2\\\\020_color.jpg', './8_3_high2\\\\021_color.jpg', './8_3_high2\\\\022_color.jpg']\n",
      "./8_3_high2\\001_color.jpg\n",
      "./8_3_high2\\001_color.jpg\n"
     ]
    },
    {
     "ename": "error",
     "evalue": "OpenCV(4.5.3) :-1: error: (-5:Bad argument) in function 'imshow'\n> Overload resolution failed:\n>  - imshow() missing required argument 'mat' (pos 2)\n>  - imshow() missing required argument 'mat' (pos 2)\n>  - imshow() missing required argument 'mat' (pos 2)\n",
     "output_type": "error",
     "traceback": [
      "\u001b[1;31m---------------------------------------------------------------------------\u001b[0m",
      "\u001b[1;31merror\u001b[0m                                     Traceback (most recent call last)",
      "\u001b[1;32m~\\AppData\\Local\\Temp/ipykernel_2560/1721742263.py\u001b[0m in \u001b[0;36m<module>\u001b[1;34m\u001b[0m\n\u001b[0;32m     13\u001b[0m     \u001b[0mcv2\u001b[0m\u001b[1;33m.\u001b[0m\u001b[0mwaitKey\u001b[0m\u001b[1;33m(\u001b[0m\u001b[1;36m0\u001b[0m\u001b[1;33m)\u001b[0m\u001b[1;33m\u001b[0m\u001b[1;33m\u001b[0m\u001b[0m\n\u001b[0;32m     14\u001b[0m     \u001b[0mimg\u001b[0m\u001b[1;33m=\u001b[0m\u001b[0mcv2\u001b[0m\u001b[1;33m.\u001b[0m\u001b[0mimread\u001b[0m\u001b[1;33m(\u001b[0m\u001b[0mimgPath\u001b[0m\u001b[1;33m+\u001b[0m\u001b[1;34m'\\\\00'\u001b[0m\u001b[1;33m+\u001b[0m\u001b[0mstr\u001b[0m\u001b[1;33m(\u001b[0m\u001b[0mi\u001b[0m\u001b[1;33m+\u001b[0m\u001b[1;36m1\u001b[0m\u001b[1;33m)\u001b[0m\u001b[1;33m+\u001b[0m\u001b[1;34m'_color.jpg'\u001b[0m\u001b[1;33m)\u001b[0m\u001b[1;33m\u001b[0m\u001b[1;33m\u001b[0m\u001b[0m\n\u001b[1;32m---> 15\u001b[1;33m     \u001b[0mcv2\u001b[0m\u001b[1;33m.\u001b[0m\u001b[0mimshow\u001b[0m\u001b[1;33m(\u001b[0m\u001b[0mimgPath\u001b[0m\u001b[1;33m+\u001b[0m\u001b[1;34m'/'\u001b[0m\u001b[1;33m+\u001b[0m\u001b[0mstr\u001b[0m\u001b[1;33m(\u001b[0m\u001b[0mi\u001b[0m\u001b[1;33m+\u001b[0m\u001b[1;36m1\u001b[0m\u001b[1;33m)\u001b[0m\u001b[1;33m+\u001b[0m\u001b[1;34m'_color.jpg'\u001b[0m\u001b[1;33m)\u001b[0m\u001b[1;33m\u001b[0m\u001b[1;33m\u001b[0m\u001b[0m\n\u001b[0m\u001b[0;32m     16\u001b[0m     \u001b[0mcv2\u001b[0m\u001b[1;33m.\u001b[0m\u001b[0mwaitKey\u001b[0m\u001b[1;33m(\u001b[0m\u001b[1;36m0\u001b[0m\u001b[1;33m)\u001b[0m\u001b[1;33m\u001b[0m\u001b[1;33m\u001b[0m\u001b[0m\n\u001b[0;32m     17\u001b[0m     \u001b[0mcv2\u001b[0m\u001b[1;33m.\u001b[0m\u001b[0mdestroyAllWindows\u001b[0m\u001b[1;33m(\u001b[0m\u001b[1;33m)\u001b[0m\u001b[1;33m\u001b[0m\u001b[1;33m\u001b[0m\u001b[0m\n",
      "\u001b[1;31merror\u001b[0m: OpenCV(4.5.3) :-1: error: (-5:Bad argument) in function 'imshow'\n> Overload resolution failed:\n>  - imshow() missing required argument 'mat' (pos 2)\n>  - imshow() missing required argument 'mat' (pos 2)\n>  - imshow() missing required argument 'mat' (pos 2)\n"
     ]
    }
   ],
   "source": [
    "import glob\n",
    "import cv2\n",
    "imgPath=\"./8_3_high2\"\n",
    "images = glob.glob(imgPath+'/*_color.jpg')\n",
    "print(images)\n",
    "j=0\n",
    "for i in range(len(images)):\n",
    "    print(images[i])\n",
    "    print(imgPath+'\\\\00'+str(i+1)+'_color.jpg')\n",
    "    \n",
    "    img=cv2.imread(images[i])\n",
    "    cv2.imshow(images[j], img)\n",
    "    cv2.waitKey(0)\n",
    "    img=cv2.imread(imgPath+'/00'+str(i+1)+'_color.jpg')\n",
    "    cv2.imshow(imgPath+'/'+str(i+1)+'_color.jpg')\n",
    "    cv2.waitKey(0)\n",
    "    cv2.destroyAllWindows()\n",
    "    j+=1"
   ]
  },
  {
   "cell_type": "code",
   "execution_count": null,
   "id": "9804e112",
   "metadata": {},
   "outputs": [],
   "source": [
    "#tool frame 7"
   ]
  }
 ],
 "metadata": {
  "kernelspec": {
   "display_name": "Python 3",
   "language": "python",
   "name": "python3"
  },
  "language_info": {
   "codemirror_mode": {
    "name": "ipython",
    "version": 3
   },
   "file_extension": ".py",
   "mimetype": "text/x-python",
   "name": "python",
   "nbconvert_exporter": "python",
   "pygments_lexer": "ipython3",
   "version": "3.8.6"
  }
 },
 "nbformat": 4,
 "nbformat_minor": 5
}
