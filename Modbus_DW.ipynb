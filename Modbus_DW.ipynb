{
 "cells": [
  {
   "cell_type": "code",
   "execution_count": 1,
   "id": "c6e4cef0",
   "metadata": {},
   "outputs": [],
   "source": [
    "import pyModbusTCP"
   ]
  },
  {
   "cell_type": "code",
   "execution_count": 2,
   "id": "98e6a995",
   "metadata": {},
   "outputs": [
    {
     "name": "stdout",
     "output_type": "stream",
     "text": [
      "success\n",
      "None\n"
     ]
    }
   ],
   "source": [
    "from pyModbusTCP.client import ModbusClient\n",
    "import time\n",
    "\n",
    "SERVER_HOST = \"169.254.194.1\"\n",
    "# SERVER_HOST = \"localhost\"\n",
    "# SERVER_PORT = 502\n",
    "\n",
    "c = ModbusClient()\n",
    "\n",
    "# uncomment this line to see debug message\n",
    "#c.debug(True)\n",
    "\n",
    "# define modbus server host, port\n",
    "c.host(SERVER_HOST)\n",
    "c.port(SERVER_PORT)\n",
    "c.unit_id(2)\n",
    "c.open()\n",
    "point=1\n",
    "i=0\n",
    "while True:\n",
    "    # open or reconnect TCP to server\n",
    "    if not c.is_open():\n",
    "        if not c.open():\n",
    "            print(\"unable to connect to \"+SERVER_HOST+\":\"+str(SERVER_PORT))\n",
    "    # if open() is ok, read register (modbus function 0x03)\n",
    "    if c.is_open():\n",
    "        # read 10 registers at address 0, store result in regs list\n",
    "        print(\"success\")\n",
    "        regs = c.read_holding_registers(0x1002,65536)\n",
    "        print(regs)\n",
    "        \n",
    "    # sleep 2s before next polling\n",
    "    #time.sleep(10)\n",
    "    i+=1\n",
    "    if(i>0):\n",
    "        c.close()\n",
    "        break\n",
    "c.close()"
   ]
  },
  {
   "cell_type": "code",
   "execution_count": 3,
   "id": "1bf4bf34",
   "metadata": {},
   "outputs": [],
   "source": [
    "def DRA2int(i):\n",
    "    if(i>32767):\n",
    "        return [i-65536]\n",
    "    else:\n",
    "        return [i]\n",
    "def int2DRA(i):\n",
    "    if(i<0):\n",
    "        return [i+65536]\n",
    "    elif(i<32767):\n",
    "        return [i]\n",
    "    else:\n",
    "        print(\"out of 32767!\")\n",
    "        return [0]"
   ]
  },
  {
   "cell_type": "code",
   "execution_count": 5,
   "id": "31713a06",
   "metadata": {},
   "outputs": [],
   "source": [
    "def DRA2intL(a1,b1):\n",
    "    out=bin(b1)\n",
    "    if(len(out)<18):\n",
    "        out=\"0b0\"+out[2::]\n",
    "    out2=bin(a1)\n",
    "    out2=out2[2::]\n",
    "    f=out+out2\n",
    "    if(f[2]=='1'):\n",
    "        f=int(f[3::],2)-2147483648\n",
    "        return [f]\n",
    "    f=int(f,2)\n",
    "    \n",
    "    return [f]\n",
    "#DRA2intL(regs[1],regs[2])"
   ]
  },
  {
   "cell_type": "code",
   "execution_count": 6,
   "id": "277ddddf",
   "metadata": {},
   "outputs": [],
   "source": [
    "def intL2DRA(i):\n",
    "    if(i<0):\n",
    "        f=i+4294967296\n",
    "        f=bin(f)\n",
    "        b=int(f[0:18],2)\n",
    "        a=int(f[18::],2)\n",
    "        return [a,b]\n",
    "    else:\n",
    "        if(i<65536):\n",
    "            b=0\n",
    "            a=i\n",
    "            return [a,b]\n",
    "        else:\n",
    "            f=bin(i)      \n",
    "            a=int(f[-16::],2)\n",
    "            b=int(f[0:-16],2)\n",
    "            return [a,b]\n",
    "\n",
    "#intL2DRA(655360)"
   ]
  },
  {
   "cell_type": "code",
   "execution_count": 7,
   "id": "0a09f504",
   "metadata": {},
   "outputs": [
    {
     "name": "stdout",
     "output_type": "stream",
     "text": [
      "[4, 32768]\n",
      "[-2147483644]\n"
     ]
    },
    {
     "data": {
      "text/plain": [
       "True"
      ]
     },
     "execution_count": 7,
     "metadata": {},
     "output_type": "execute_result"
    }
   ],
   "source": [
    "c.open()\n",
    "#c.write_multiple_registers(0x1001, int2DRA(-32766))\n",
    "c.write_multiple_registers(0x1002, intL2DRA(-2147483644))\n",
    "regs = c.read_holding_registers(0x1002,2)\n",
    "print(regs)\n",
    "#print(DRA2int(regs[0]))\n",
    "print(DRA2intL(regs[0],regs[1]))\n",
    "c.close()"
   ]
  },
  {
   "cell_type": "code",
   "execution_count": 217,
   "id": "187a86fb",
   "metadata": {},
   "outputs": [
    {
     "name": "stdout",
     "output_type": "stream",
     "text": [
      "unsign: [32770]\n",
      "sign: [-32766]\n"
     ]
    }
   ],
   "source": [
    "c.open()\n",
    "c.write_multiple_registers(0x1001, int2DRA(-32766))\n",
    "regs = c.read_holding_registers(0x1001,1)\n",
    "print(\"unsign:\",regs)\n",
    "print(\"sign:\",DRA2int(regs[0]))\n",
    "\n",
    "#print(DRA2intL(regs[1],regs[2]))"
   ]
  },
  {
   "cell_type": "code",
   "execution_count": 34,
   "id": "c784b7d3",
   "metadata": {},
   "outputs": [],
   "source": []
  },
  {
   "cell_type": "code",
   "execution_count": null,
   "id": "117beb87",
   "metadata": {},
   "outputs": [],
   "source": []
  }
 ],
 "metadata": {
  "kernelspec": {
   "display_name": "Python 3 (ipykernel)",
   "language": "python",
   "name": "python3"
  },
  "language_info": {
   "codemirror_mode": {
    "name": "ipython",
    "version": 3
   },
   "file_extension": ".py",
   "mimetype": "text/x-python",
   "name": "python",
   "nbconvert_exporter": "python",
   "pygments_lexer": "ipython3",
   "version": "3.8.9"
  }
 },
 "nbformat": 4,
 "nbformat_minor": 5
}
