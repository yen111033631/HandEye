{
 "cells": [
  {
   "cell_type": "code",
   "execution_count": 1,
   "id": "3bf3a530",
   "metadata": {},
   "outputs": [],
   "source": [
    "from Modbus_DW import *\n",
    "from camera import *\n"
   ]
  },
  {
   "cell_type": "code",
   "execution_count": 2,
   "id": "738d8870",
   "metadata": {},
   "outputs": [
    {
     "name": "stdout",
     "output_type": "stream",
     "text": [
      "connect success\n",
      "DRA is runing now\n"
     ]
    }
   ],
   "source": [
    "c=connectRobot()\n",
    "# c=connectRobot(SERVER_HOST = \"192.168.1.1\")"
   ]
  },
  {
   "cell_type": "code",
   "execution_count": 14,
   "id": "4f0b97ba",
   "metadata": {},
   "outputs": [
    {
     "name": "stdout",
     "output_type": "stream",
     "text": [
      "read try: 0\n",
      "[290.0, -11.941, 559.999, -180.0, 0.0, 0.0]\n"
     ]
    }
   ],
   "source": [
    "pos=getRobotP(c)\n",
    "print(pos)\n",
    "# takePicture(\"11_29\")"
   ]
  },
  {
   "cell_type": "code",
   "execution_count": 4,
   "id": "5addcb24",
   "metadata": {},
   "outputs": [],
   "source": [
    "# pos=getRobotP(c)\n",
    "# print(pos)\n",
    "# saveRobotP(pos)\n",
    "# robotP=[]\n",
    "# robotP.append(pos)"
   ]
  },
  {
   "cell_type": "code",
   "execution_count": 6,
   "id": "d49d9f1b",
   "metadata": {
    "scrolled": true
   },
   "outputs": [
    {
     "name": "stdout",
     "output_type": "stream",
     "text": [
      "[339.822, -11.94, 546.289, -180.0, 0.0, 0.0]\n",
      "wait for move 0\n",
      "wait for move 1\n",
      "wait for move 2\n",
      "run finish\n",
      "read try: 0\n",
      "read try: 1\n",
      "[339.822, -11.94, 546.289, -180.0, 0.0, 0.0]\n"
     ]
    }
   ],
   "source": [
    "pos=[290.0, -11.941, 560.000, -180.0, 0.0, 0.0]\n",
    "print(pos)\n",
    "teachPoint(c,pos)\n",
    "print(\"run finish\")\n",
    "# teachPoint(c,robotP[0])\n",
    "pos=getRobotP(c)\n",
    "print(pos)\n",
    "# takePicture(\"pic3\")"
   ]
  },
  {
   "cell_type": "code",
   "execution_count": 12,
   "id": "2100a9db",
   "metadata": {},
   "outputs": [
    {
     "name": "stdout",
     "output_type": "stream",
     "text": [
      "[329.821, -11.941, 546.289, -180.0, 0.0, 0.0]\n",
      "wait for move 0\n",
      "wait for move 1\n",
      "read try: 0\n",
      "[329.821, -11.941, 546.289, -180.0, 0.0, 0.0]\n",
      "目錄存在。\n",
      "內有: 0 對圖片\n",
      "start camera:\n",
      "目錄不存在。建一個目錄...\n",
      "wait for move 0\n",
      "wait for move 1\n",
      "wait for move 2\n",
      "read try: 0\n",
      "read try: 1\n",
      "read try: 2\n",
      "read try: 3\n",
      "read try: 4\n",
      "read try: 5\n",
      "read try: 6\n",
      "read try: 7\n",
      "read try: 8\n",
      "read try: 9\n",
      "[329.821, -11.941, 546.289, -180.0, 0.0, 0.0]\n",
      "目錄存在。\n",
      "內有: 1 對圖片\n",
      "start camera:\n",
      "目錄存在。\n",
      "wait for move 0\n",
      "wait for move 1\n",
      "wait for move 2\n",
      "wait for move 3\n",
      "wait for move 4\n",
      "read try: 0\n",
      "[339.82, -11.941, 546.289, -180.0, 0.0, 0.0]\n",
      "目錄存在。\n",
      "內有: 2 對圖片\n",
      "start camera:\n",
      "目錄存在。\n",
      "wait for move 0\n",
      "wait for move 1\n",
      "wait for move 2\n",
      "read try: 0\n",
      "[329.821, 8.057, 546.289, -180.0, 0.0, -15.0]\n",
      "目錄存在。\n",
      "內有: 3 對圖片\n",
      "start camera:\n",
      "目錄存在。\n",
      "wait for move 0\n",
      "wait for move 1\n",
      "wait for move 2\n",
      "wait for move 3\n",
      "read try: 0\n",
      "[329.82, -1.94, 546.289, -180.0, 0.0, 0.0]\n",
      "目錄存在。\n",
      "內有: 4 對圖片\n",
      "start camera:\n",
      "目錄存在。\n",
      "wait for move 0\n",
      "wait for move 1\n",
      "wait for move 2\n",
      "wait for move 3\n",
      "read try: 0\n",
      "[329.821, -1.941, 556.289, -180.0, 0.0, 0.0]\n",
      "目錄存在。\n",
      "內有: 5 對圖片\n",
      "start camera:\n",
      "目錄存在。\n",
      "wait for move 0\n",
      "wait for move 1\n",
      "wait for move 2\n",
      "wait for move 3\n",
      "read try: 0\n",
      "read try: 1\n",
      "[329.82, -31.941, 556.289, -170.0, 0.0, 0.0]\n",
      "目錄存在。\n",
      "內有: 6 對圖片\n",
      "start camera:\n",
      "目錄存在。\n",
      "wait for move 0\n",
      "wait for move 1\n",
      "wait for move 2\n",
      "read try: 0\n",
      "[329.821, -61.938, 556.289, -169.999, 0.0, 0.0]\n",
      "目錄存在。\n",
      "內有: 7 對圖片\n",
      "start camera:\n",
      "目錄存在。\n",
      "wait for move 0\n",
      "wait for move 1\n",
      "wait for move 2\n",
      "read try: 0\n",
      "[329.821, 18.059, 556.289, 170.001, 0.0, 0.0]\n",
      "目錄存在。\n",
      "內有: 8 對圖片\n",
      "start camera:\n",
      "目錄存在。\n",
      "wait for move 0\n",
      "wait for move 1\n",
      "wait for move 2\n",
      "wait for move 3\n",
      "read try: 0\n",
      "[329.821, 58.057, 556.289, 169.999, 0.0, 0.0]\n",
      "目錄存在。\n",
      "內有: 9 對圖片\n",
      "start camera:\n",
      "目錄存在。\n",
      "wait for move 0\n",
      "wait for move 1\n",
      "wait for move 2\n",
      "wait for move 3\n",
      "wait for move 4\n",
      "read try: 0\n",
      "read try: 1\n"
     ]
    },
    {
     "ename": "KeyboardInterrupt",
     "evalue": "",
     "output_type": "error",
     "traceback": [
      "\u001b[1;31m---------------------------------------------------------------------------\u001b[0m",
      "\u001b[1;31mKeyboardInterrupt\u001b[0m                         Traceback (most recent call last)",
      "\u001b[1;32m<ipython-input-12-f67dc8a48100>\u001b[0m in \u001b[0;36m<module>\u001b[1;34m\u001b[0m\n\u001b[0;32m      2\u001b[0m \u001b[0mpos\u001b[0m\u001b[1;33m=\u001b[0m\u001b[1;33m[\u001b[0m\u001b[1;36m329.821\u001b[0m\u001b[1;33m,\u001b[0m \u001b[1;33m-\u001b[0m\u001b[1;36m11.941\u001b[0m\u001b[1;33m,\u001b[0m \u001b[1;36m546.289\u001b[0m\u001b[1;33m,\u001b[0m \u001b[1;33m-\u001b[0m\u001b[1;36m180.0\u001b[0m\u001b[1;33m,\u001b[0m \u001b[1;36m0.0\u001b[0m\u001b[1;33m,\u001b[0m \u001b[1;36m0.0\u001b[0m\u001b[1;33m]\u001b[0m\u001b[1;33m\u001b[0m\u001b[1;33m\u001b[0m\u001b[0m\n\u001b[0;32m      3\u001b[0m \u001b[0mprint\u001b[0m\u001b[1;33m(\u001b[0m\u001b[0mpos\u001b[0m\u001b[1;33m)\u001b[0m\u001b[1;33m\u001b[0m\u001b[1;33m\u001b[0m\u001b[0m\n\u001b[1;32m----> 4\u001b[1;33m \u001b[0mmakeCamset\u001b[0m\u001b[1;33m(\u001b[0m\u001b[0mc\u001b[0m\u001b[1;33m,\u001b[0m\u001b[0mpath\u001b[0m\u001b[1;33m=\u001b[0m\u001b[1;34m\"picture/11_29\"\u001b[0m\u001b[1;33m,\u001b[0m\u001b[0mp0\u001b[0m\u001b[1;33m=\u001b[0m\u001b[0mpos\u001b[0m\u001b[1;33m)\u001b[0m\u001b[1;33m\u001b[0m\u001b[1;33m\u001b[0m\u001b[0m\n\u001b[0m\u001b[0;32m      5\u001b[0m \u001b[1;31m# teachPoint(c,pos)\u001b[0m\u001b[1;33m\u001b[0m\u001b[1;33m\u001b[0m\u001b[1;33m\u001b[0m\u001b[0m\n",
      "\u001b[1;32mD:\\onedrive\\lab\\thesis\\code\\HandeyePy\\camera.py\u001b[0m in \u001b[0;36mmakeCamset\u001b[1;34m(c, path, p0, pixel)\u001b[0m\n\u001b[0;32m    149\u001b[0m     \u001b[0mp1\u001b[0m\u001b[1;33m[\u001b[0m\u001b[1;36m4\u001b[0m\u001b[1;33m]\u001b[0m\u001b[1;33m+=\u001b[0m\u001b[1;36m10\u001b[0m\u001b[1;33m\u001b[0m\u001b[1;33m\u001b[0m\u001b[0m\n\u001b[0;32m    150\u001b[0m     \u001b[0mp1\u001b[0m\u001b[1;33m[\u001b[0m\u001b[1;36m0\u001b[0m\u001b[1;33m]\u001b[0m\u001b[1;33m+=\u001b[0m\u001b[1;36m80\u001b[0m\u001b[1;33m\u001b[0m\u001b[1;33m\u001b[0m\u001b[0m\n\u001b[1;32m--> 151\u001b[1;33m     \u001b[0msaveRobotP\u001b[0m\u001b[1;33m(\u001b[0m\u001b[0mrunAndTake\u001b[0m\u001b[1;33m(\u001b[0m\u001b[0mc\u001b[0m\u001b[1;33m,\u001b[0m\u001b[0mpath\u001b[0m\u001b[1;33m,\u001b[0m\u001b[0mp1\u001b[0m\u001b[1;33m,\u001b[0m\u001b[0mpixel\u001b[0m\u001b[1;33m)\u001b[0m\u001b[1;33m,\u001b[0m\u001b[0mpath2\u001b[0m\u001b[1;33m)\u001b[0m\u001b[1;33m\u001b[0m\u001b[1;33m\u001b[0m\u001b[0m\n\u001b[0m\u001b[0;32m    152\u001b[0m     \u001b[0mp1\u001b[0m \u001b[1;33m=\u001b[0m \u001b[0mp0\u001b[0m\u001b[1;33m[\u001b[0m\u001b[1;33m:\u001b[0m\u001b[1;33m]\u001b[0m\u001b[1;33m\u001b[0m\u001b[1;33m\u001b[0m\u001b[0m\n\u001b[0;32m    153\u001b[0m     \u001b[0mp1\u001b[0m\u001b[1;33m[\u001b[0m\u001b[1;36m4\u001b[0m\u001b[1;33m]\u001b[0m\u001b[1;33m+=\u001b[0m\u001b[1;36m10\u001b[0m\u001b[1;33m\u001b[0m\u001b[1;33m\u001b[0m\u001b[0m\n",
      "\u001b[1;32mD:\\onedrive\\lab\\thesis\\code\\HandeyePy\\camera.py\u001b[0m in \u001b[0;36mrunAndTake\u001b[1;34m(c, path, pos, pixel)\u001b[0m\n\u001b[0;32m    110\u001b[0m \u001b[1;32mdef\u001b[0m \u001b[0mrunAndTake\u001b[0m\u001b[1;33m(\u001b[0m\u001b[0mc\u001b[0m\u001b[1;33m,\u001b[0m\u001b[0mpath\u001b[0m\u001b[1;33m=\u001b[0m\u001b[1;34m\"pic\"\u001b[0m\u001b[1;33m,\u001b[0m\u001b[0mpos\u001b[0m\u001b[1;33m=\u001b[0m\u001b[1;33m[\u001b[0m\u001b[1;36m437.195\u001b[0m\u001b[1;33m,\u001b[0m \u001b[1;33m-\u001b[0m\u001b[1;36m50.005\u001b[0m\u001b[1;33m,\u001b[0m \u001b[1;36m570.37\u001b[0m\u001b[1;33m,\u001b[0m \u001b[1;36m177.132\u001b[0m\u001b[1;33m,\u001b[0m \u001b[1;33m-\u001b[0m\u001b[1;36m1.512\u001b[0m\u001b[1;33m,\u001b[0m \u001b[1;33m-\u001b[0m\u001b[1;36m2.359\u001b[0m\u001b[1;33m]\u001b[0m\u001b[1;33m,\u001b[0m\u001b[0mpixel\u001b[0m\u001b[1;33m=\u001b[0m\u001b[1;34m\"high\"\u001b[0m\u001b[1;33m)\u001b[0m\u001b[1;33m:\u001b[0m\u001b[1;33m\u001b[0m\u001b[1;33m\u001b[0m\u001b[0m\n\u001b[0;32m    111\u001b[0m     \u001b[0mteachPoint\u001b[0m\u001b[1;33m(\u001b[0m\u001b[0mc\u001b[0m\u001b[1;33m,\u001b[0m\u001b[0mpos\u001b[0m\u001b[1;33m)\u001b[0m\u001b[1;33m\u001b[0m\u001b[1;33m\u001b[0m\u001b[0m\n\u001b[1;32m--> 112\u001b[1;33m     \u001b[0mpos\u001b[0m\u001b[1;33m=\u001b[0m\u001b[0mgetRobotP\u001b[0m\u001b[1;33m(\u001b[0m\u001b[0mc\u001b[0m\u001b[1;33m)\u001b[0m\u001b[1;33m\u001b[0m\u001b[1;33m\u001b[0m\u001b[0m\n\u001b[0m\u001b[0;32m    113\u001b[0m     \u001b[0mprint\u001b[0m\u001b[1;33m(\u001b[0m\u001b[0mpos\u001b[0m\u001b[1;33m)\u001b[0m\u001b[1;33m\u001b[0m\u001b[1;33m\u001b[0m\u001b[0m\n\u001b[0;32m    114\u001b[0m     \u001b[0mtakePicture\u001b[0m\u001b[1;33m(\u001b[0m\u001b[0mpath\u001b[0m\u001b[1;33m,\u001b[0m\u001b[0mpixel\u001b[0m\u001b[1;33m=\u001b[0m\u001b[0mpixel\u001b[0m\u001b[1;33m)\u001b[0m\u001b[1;33m\u001b[0m\u001b[1;33m\u001b[0m\u001b[0m\n",
      "\u001b[1;32mD:\\onedrive\\lab\\thesis\\code\\HandeyePy\\Modbus_DW.py\u001b[0m in \u001b[0;36mgetRobotP\u001b[1;34m(c)\u001b[0m\n\u001b[0;32m    116\u001b[0m     \u001b[1;32mfor\u001b[0m \u001b[0mi\u001b[0m \u001b[1;32min\u001b[0m \u001b[0mrange\u001b[0m\u001b[1;33m(\u001b[0m\u001b[1;36m10\u001b[0m\u001b[1;33m)\u001b[0m\u001b[1;33m:\u001b[0m\u001b[1;33m\u001b[0m\u001b[1;33m\u001b[0m\u001b[0m\n\u001b[0;32m    117\u001b[0m         \u001b[0mprint\u001b[0m\u001b[1;33m(\u001b[0m\u001b[1;34m\"read try:\"\u001b[0m\u001b[1;33m,\u001b[0m\u001b[0mi\u001b[0m\u001b[1;33m)\u001b[0m\u001b[1;33m\u001b[0m\u001b[1;33m\u001b[0m\u001b[0m\n\u001b[1;32m--> 118\u001b[1;33m         \u001b[0mtime\u001b[0m\u001b[1;33m.\u001b[0m\u001b[0msleep\u001b[0m\u001b[1;33m(\u001b[0m\u001b[1;36m1\u001b[0m\u001b[1;33m)\u001b[0m\u001b[1;33m\u001b[0m\u001b[1;33m\u001b[0m\u001b[0m\n\u001b[0m\u001b[0;32m    119\u001b[0m         \u001b[0mregs\u001b[0m \u001b[1;33m=\u001b[0m \u001b[0mc\u001b[0m\u001b[1;33m.\u001b[0m\u001b[0mread_holding_registers\u001b[0m\u001b[1;33m(\u001b[0m\u001b[1;36m0x1001\u001b[0m\u001b[1;33m,\u001b[0m\u001b[1;36m2\u001b[0m\u001b[1;33m)\u001b[0m\u001b[1;33m\u001b[0m\u001b[1;33m\u001b[0m\u001b[0m\n\u001b[0;32m    120\u001b[0m         \u001b[1;32mtry\u001b[0m\u001b[1;33m:\u001b[0m\u001b[1;33m\u001b[0m\u001b[1;33m\u001b[0m\u001b[0m\n",
      "\u001b[1;31mKeyboardInterrupt\u001b[0m: "
     ]
    }
   ],
   "source": [
    "# pos=getRobotP(c)\n",
    "pos=[329.821, -11.941, 546.289, -180.0, 0.0, 0.0]\n",
    "print(pos)\n",
    "makeCamset(c,path=\"picture/11_29\",p0=pos)   \n",
    "# teachPoint(c,pos)"
   ]
  },
  {
   "cell_type": "code",
   "execution_count": 6,
   "id": "9f431eae",
   "metadata": {},
   "outputs": [],
   "source": [
    "# pos=getRobotP(c)\n",
    "# print(pos)"
   ]
  },
  {
   "cell_type": "code",
   "execution_count": 7,
   "id": "a815b65a",
   "metadata": {},
   "outputs": [
    {
     "name": "stdout",
     "output_type": "stream",
     "text": [
      "[437.195, -50.004, 570.37, 177.131, -1.512, -2.359]\n",
      "目錄存在。\n",
      "內有: 0 對圖片\n",
      "start camera:\n",
      "目錄存在。\n",
      "[447.195, -50.004, 570.37, 177.132, -1.512, -2.358]\n",
      "目錄存在。\n",
      "內有: 1 對圖片\n",
      "start camera:\n",
      "目錄存在。\n",
      "[447.195, -40.007, 570.37, 177.132, -1.512, -2.359]\n",
      "目錄存在。\n",
      "內有: 2 對圖片\n",
      "start camera:\n",
      "目錄存在。\n",
      "[447.195, -40.005, 580.37, 177.132, -1.512, -2.359]\n",
      "目錄存在。\n",
      "內有: 3 對圖片\n",
      "start camera:\n",
      "目錄存在。\n",
      "[447.195, -70.004, 580.37, -172.868, -1.512, -2.359]\n",
      "目錄存在。\n",
      "內有: 4 對圖片\n",
      "start camera:\n",
      "目錄存在。\n",
      "[447.195, -100.004, 580.37, -172.868, -1.512, -2.359]\n",
      "目錄存在。\n",
      "內有: 5 對圖片\n",
      "start camera:\n",
      "目錄存在。\n",
      "[447.195, -20.006, 580.37, 167.132, -1.512, -2.359]\n",
      "目錄存在。\n",
      "內有: 6 對圖片\n",
      "start camera:\n",
      "目錄存在。\n",
      "[447.195, 19.993, 580.37, 167.132, -1.512, -2.359]\n",
      "目錄存在。\n",
      "內有: 7 對圖片\n",
      "start camera:\n",
      "目錄存在。\n",
      "[487.195, -50.003, 570.37, 177.132, 8.488, -2.359]\n",
      "目錄存在。\n",
      "內有: 8 對圖片\n",
      "start camera:\n",
      "目錄存在。\n",
      "[487.195, -30.007, 570.37, 177.132, 8.488, -2.359]\n",
      "目錄存在。\n",
      "內有: 9 對圖片\n",
      "start camera:\n",
      "目錄存在。\n",
      "[487.195, -30.005, 590.37, 177.132, 8.488, -2.359]\n",
      "目錄存在。\n",
      "內有: 10 對圖片\n",
      "start camera:\n",
      "目錄存在。\n",
      "[487.195, -80.004, 590.37, -172.869, 8.488, -2.359]\n",
      "目錄存在。\n",
      "內有: 11 對圖片\n",
      "start camera:\n",
      "目錄存在。\n",
      "[487.196, -110.003, 590.37, -172.868, 8.488, -2.359]\n",
      "目錄存在。\n",
      "內有: 12 對圖片\n",
      "start camera:\n",
      "目錄存在。\n",
      "[487.195, -30.005, 590.371, 167.132, 8.488, -2.359]\n",
      "目錄存在。\n",
      "內有: 13 對圖片\n",
      "start camera:\n",
      "目錄存在。\n",
      "[487.195, 9.993, 590.37, 167.132, 8.488, -2.359]\n",
      "目錄存在。\n",
      "內有: 14 對圖片\n",
      "start camera:\n",
      "目錄存在。\n",
      "[387.195, -50.003, 570.37, 177.132, -11.512, -2.359]\n",
      "目錄存在。\n",
      "內有: 15 對圖片\n",
      "start camera:\n",
      "目錄存在。\n",
      "[387.195, -30.006, 570.371, 177.133, -11.512, -2.36]\n",
      "目錄存在。\n",
      "內有: 16 對圖片\n",
      "start camera:\n",
      "目錄存在。\n",
      "[387.196, -30.005, 590.37, 177.132, -11.512, -2.359]\n",
      "目錄存在。\n",
      "內有: 17 對圖片\n",
      "start camera:\n",
      "目錄存在。\n",
      "[387.194, -80.004, 590.37, -172.868, -11.512, -2.359]\n",
      "目錄存在。\n",
      "內有: 18 對圖片\n",
      "start camera:\n",
      "目錄存在。\n",
      "[387.195, -110.004, 590.369, -172.868, -11.512, -2.359]\n",
      "目錄存在。\n",
      "內有: 19 對圖片\n",
      "start camera:\n",
      "目錄存在。\n",
      "[387.195, -30.005, 590.37, 167.133, -11.512, -2.36]\n",
      "目錄存在。\n",
      "內有: 20 對圖片\n",
      "start camera:\n",
      "目錄存在。\n",
      "[387.195, 9.994, 590.37, 167.132, -11.512, -2.359]\n",
      "目錄存在。\n",
      "內有: 21 對圖片\n",
      "start camera:\n",
      "目錄存在。\n"
     ]
    }
   ],
   "source": [
    "\n",
    "        \n",
    "   "
   ]
  },
  {
   "cell_type": "code",
   "execution_count": null,
   "id": "38fb5478",
   "metadata": {},
   "outputs": [],
   "source": [
    "closeRobot(c)"
   ]
  },
  {
   "cell_type": "code",
   "execution_count": null,
   "id": "c0c77d01",
   "metadata": {},
   "outputs": [],
   "source": []
  }
 ],
 "metadata": {
  "kernelspec": {
   "display_name": "Python 3",
   "language": "python",
   "name": "python3"
  },
  "language_info": {
   "codemirror_mode": {
    "name": "ipython",
    "version": 3
   },
   "file_extension": ".py",
   "mimetype": "text/x-python",
   "name": "python",
   "nbconvert_exporter": "python",
   "pygments_lexer": "ipython3",
   "version": "3.8.6"
  }
 },
 "nbformat": 4,
 "nbformat_minor": 5
}
