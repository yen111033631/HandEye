{
 "cells": [
  {
   "cell_type": "code",
   "execution_count": 1,
   "id": "11c82a38",
   "metadata": {},
   "outputs": [],
   "source": [
    "import cv2\n",
    "import pyrealsense2 as rs\n",
    "import numpy as np\n",
    "from camCalibration import *\n",
    "from Modbus_DW import *\n",
    "from camera import *\n",
    "from demo import demo"
   ]
  },
  {
   "cell_type": "markdown",
   "id": "b9892890",
   "metadata": {},
   "source": [
    "## make calibration data"
   ]
  },
  {
   "cell_type": "code",
   "execution_count": 2,
   "id": "dated-blowing",
   "metadata": {},
   "outputs": [
    {
     "name": "stdout",
     "output_type": "stream",
     "text": [
      "connect success\n",
      "DRA is runing now\n",
      "read try: 0\n",
      "read try: 1\n",
      "[290.0, -11.94, 560.0, -180.0, 0.0, 0.0]\n"
     ]
    }
   ],
   "source": [
    "c=connectRobot(SERVER_HOST = \"192.168.1.1\")\n",
    "pos=getRobotP(c)\n",
    "print(pos)"
   ]
  },
  {
   "cell_type": "code",
   "execution_count": 3,
   "id": "b90a4091",
   "metadata": {
    "scrolled": true
   },
   "outputs": [
    {
     "ename": "TypeError",
     "evalue": "makeCamset() got an unexpected keyword argument 'align'",
     "output_type": "error",
     "traceback": [
      "\u001b[1;31m---------------------------------------------------------------------------\u001b[0m",
      "\u001b[1;31mTypeError\u001b[0m                                 Traceback (most recent call last)",
      "\u001b[1;32m<ipython-input-3-b640e556506f>\u001b[0m in \u001b[0;36m<module>\u001b[1;34m\u001b[0m\n\u001b[1;32m----> 1\u001b[1;33m \u001b[0mmakeCamset\u001b[0m\u001b[1;33m(\u001b[0m\u001b[0mc\u001b[0m\u001b[1;33m,\u001b[0m\u001b[0mpath\u001b[0m\u001b[1;33m=\u001b[0m\u001b[1;34m\"picture/12_27_align\"\u001b[0m\u001b[1;33m,\u001b[0m\u001b[0mpixel\u001b[0m\u001b[1;33m=\u001b[0m\u001b[1;34m\"high\"\u001b[0m\u001b[1;33m,\u001b[0m\u001b[0mp0\u001b[0m\u001b[1;33m=\u001b[0m\u001b[0mpos\u001b[0m\u001b[1;33m,\u001b[0m\u001b[0malign\u001b[0m\u001b[1;33m=\u001b[0m\u001b[1;32mTrue\u001b[0m\u001b[1;33m)\u001b[0m   \u001b[1;31m#p0=pos\u001b[0m\u001b[1;33m\u001b[0m\u001b[1;33m\u001b[0m\u001b[0m\n\u001b[0m\u001b[0;32m      2\u001b[0m \u001b[1;31m# # teachPoint(c,pos)\u001b[0m\u001b[1;33m\u001b[0m\u001b[1;33m\u001b[0m\u001b[1;33m\u001b[0m\u001b[0m\n",
      "\u001b[1;31mTypeError\u001b[0m: makeCamset() got an unexpected keyword argument 'align'"
     ]
    }
   ],
   "source": [
    "makeCamset(c,path=\"picture/12_27_align\",pixel=\"high\",p0=pos,align=True)   #p0=pos\n",
    "# # teachPoint(c,pos)"
   ]
  },
  {
   "cell_type": "code",
   "execution_count": 4,
   "id": "apart-meditation",
   "metadata": {},
   "outputs": [
    {
     "name": "stdout",
     "output_type": "stream",
     "text": [
      "{'CameraTool_Angle': 30.877102701429383, 'CameraTool_Height': 159.3441456764351, 'CameraTool_Rx': -0.4010061372870978, 'CameraTool_Ry': 0.904995180312444, 'CameraTool_Rz': 87.62910560491574, 'CameraTool_Width': 103.10175044208098}\n"
     ]
    }
   ],
   "source": [
    "path=\"./picture/11_29_2\"\n",
    "with open(path+\"/data/HandEye.yaml\", 'r') as f:\n",
    "    data = yaml.load(f, Loader=yaml.Loader)\n",
    "print(data)"
   ]
  },
  {
   "cell_type": "markdown",
   "id": "8f546b8e",
   "metadata": {},
   "source": [
    "## run Hand Eye calibration"
   ]
  },
  {
   "cell_type": "code",
   "execution_count": null,
   "id": "5260ba68",
   "metadata": {},
   "outputs": [
    {
     "name": "stdout",
     "output_type": "stream",
     "text": [
      "[[947.35677163   0.         631.87979122]\n",
      " [  0.         949.73990136 367.38558855]\n",
      " [  0.           0.           1.        ]]\n",
      "[[ 0.16269981 -0.21051283  0.00716262 -0.00676228 -0.26399864]]\n",
      "error: 0.3999942529577745\n",
      "distortion: [[ 0.16269981 -0.21051283  0.00716262 -0.00676228 -0.26399864]]\n",
      "目錄存在。\n"
     ]
    }
   ],
   "source": [
    "cam1=Charuco()\n",
    "cam1.Calibration(imgPath=\"./picture/11_29_2\",show=True)\n",
    "# cam1.Calibration(imgPath=\"./picture/12_17\",show=True)\n",
    "cam1.HandEyeCalibration_EyeInHand()#new 按照數字讀圖\n",
    "\n",
    "c=connectRobot(SERVER_HOST = \"192.168.1.1\")\n",
    "RWTool(c,path=\"./picture/11_29_2\")"
   ]
  },
  {
   "cell_type": "markdown",
   "id": "931a354b",
   "metadata": {},
   "source": [
    "## demo UF"
   ]
  },
  {
   "cell_type": "code",
   "execution_count": null,
   "id": "82207125",
   "metadata": {},
   "outputs": [
    {
     "name": "stdout",
     "output_type": "stream",
     "text": [
      "hello\n",
      "{'ARUCO_size': 6, 'dist': array([[ 0.16269981, -0.21051283,  0.00716262, -0.00676228, -0.26399864]]), 'iMtx': array([[947.35677163,   0.        , 631.87979122],\n",
      "       [  0.        , 949.73990136, 367.38558855],\n",
      "       [  0.        ,   0.        ,   1.        ]]), 'markerL': 0.015, 'squareL': 0.02, 'x': 9, 'y': 12}\n",
      "connect success\n",
      "DRA is runing now\n"
     ]
    }
   ],
   "source": [
    "pipeline=startCamera()\n",
    "# run=demo(\"./picture/8_9\")\n",
    "run=demo(\"./picture/11_29_2\")\n",
    "c=connectRobot(SERVER_HOST = \"192.168.1.1\")\n",
    "\n",
    "try:\n",
    "    while True:\n",
    "        Cam,colorImg,depthImg=CameraStream(pipeline)\n",
    "        if(Cam==0):#esc\n",
    "            break\n",
    "        elif(Cam==1):\n",
    "            continue\n",
    "        elif(Cam==3):#press 1\n",
    "            #print(\"1\")\n",
    "            a,UF=run.getSinglePose(colorImg)\n",
    "            print(\"UF:\",UF)\n",
    "            o,x,y=run.calUF(c)\n",
    "            setUF(c,o,x,y)\n",
    "            #setUF(c,UF[0],UF[1],UF[2],TF=7)\n",
    "#             pointBoardPose(c)\n",
    "#             teachPoint(c,[437.195, -50.004, 570.37, 177.131, -1.512, -2.359])#origin\n",
    "            #graspDemo(c)\n",
    "        else:\n",
    "#             print(\"123\")\n",
    "            continue\n",
    "        \n",
    "finally:\n",
    "\n",
    "    # Stop streaming\n",
    "    pipeline.stop()\n",
    "    cv2.destroyAllWindows()\n",
    "    #closeRobot(c)"
   ]
  },
  {
   "cell_type": "code",
   "execution_count": null,
   "id": "a2d9e6a4",
   "metadata": {},
   "outputs": [],
   "source": [
    "# UF.shape\n",
    "#changeUF(c,UF=0)  #board UF=8\n",
    "# changeTF(c,TF=0) #camera tool frame = 7,筷子=8\n"
   ]
  },
  {
   "cell_type": "code",
   "execution_count": 2,
   "id": "0a1dcd30",
   "metadata": {},
   "outputs": [],
   "source": [
    "# def pointBoardPose(c):\n",
    "# #     changeUF(c,UF=8)  #board UF=8\n",
    "# #     changeTF(c,TF=7)\n",
    "# #     teachPoint(c,[437.195, -50.004, 570.37, 177.131, -1.512, -2.359])#origin\n",
    "#     teachPoint(c,[0.,0.,30.,0.,0.,0.],TF=8,UF=8)\n",
    "#     pos=getRobotP(c)\n",
    "#     teachPoint(c,[0.,50.,30.,0.,0.,0.],TF=8,UF=8)\n",
    "#     pos=getRobotP(c)\n",
    "#     teachPoint(c,[0.,0.,30.,0.,0.,0.],TF=8,UF=8)\n",
    "#     pos=getRobotP(c)\n",
    "#     teachPoint(c,[50.,0.,30.,0.,0.,0.],TF=8,UF=8)\n",
    "#     pos=getRobotP(c)\n"
   ]
  },
  {
   "cell_type": "markdown",
   "id": "eff3511a",
   "metadata": {},
   "source": [
    "## calculate UF"
   ]
  },
  {
   "cell_type": "code",
   "execution_count": 23,
   "id": "d2215abe",
   "metadata": {},
   "outputs": [
    {
     "name": "stdout",
     "output_type": "stream",
     "text": [
      "[101.481, 42.304, -19.246, -0.461, 1.994, 87.835]\n"
     ]
    },
    {
     "data": {
      "text/plain": [
       "array([ 557.28949903, -241.4230152 ,  145.79091209,    1.        ])"
      ]
     },
     "execution_count": 23,
     "metadata": {},
     "output_type": "execute_result"
    }
   ],
   "source": [
    "# Tco=euler2H(UF[0])\n",
    "# # --Cal Tbe--\n",
    "# changeUF(c,UF=0)\n",
    "# changeTF(c,TF=0)\n",
    "# pos=getRobotP(c)\n",
    "# Tbe=euler2H(pos)\n",
    "\n",
    "# # --ChangeTF(_TFidx)\n",
    "# # --Get Camera TF--\n",
    "# # Width, Height, Angle, Roll, Pitch, Yaw = GetTF(_TFidx)\n",
    "# Tool=getTF(c,TF=7)\n",
    "# print(Tool)\n",
    "# # Tx=Width*COS(Angle)\n",
    "# Tx=Tool[0]*math.cos(Tool[2])\n",
    "# # Ty=Width*SIN(Angle)\n",
    "# Ty=Tool[0]*math.sin(Tool[2])\n",
    "# # Tec=PO2H(Tx,Ty,Height,Yaw,Pitch,Roll)\n",
    "# Tec=euler2H([Tx,Ty,Tool[1],Tool[3],Tool[4],Tool[5]])\n",
    "\n",
    "# # --Cal UF--\n",
    "# axisX=np.array([100,0,0,1])\n",
    "# axisY=np.array([0,100,0,1])\n",
    "# Tbc=Tbe.dot(Tec)\n",
    "# Tbo=Tbc.dot(Tco)\n",
    "# UF_O=[Tbo[0][3],Tbo[1][3],Tbo[2][3]]\n",
    "# # UF_X=matrix.mul(Tbo,axisX)\n",
    "# UF_X=Tbo.dot(axisX)\n",
    "# # UF_Y=matrix.mul(Tbo,axisY)\n",
    "# UF_Y=Tbo.dot(axisY)\n",
    "\n",
    "# # JRC = {0,0,0,0,0,1,0,1}\n",
    "# # SetGlobalPoint(1,\"GL_1\",UF_O[1], UF_O[2],UF_O[3],0,0,0,0,0,0,0,0,JRC)\n",
    "# # SetGlobalPoint(2,\"GL_2\",UF_X[1][1], UF_X[2][1],UF_X[3][1],0,0,0,0,0,0,0,0,JRC)\n",
    "# # SetGlobalPoint(3,\"GL_3\",UF_Y[1][1], UF_Y[2][1],UF_Y[3][1],0,0,0,0,0,0,0,0,JRC)\n",
    "# # SetUF(_UFidx,1,2,3,1)\n",
    "\n",
    "# # ChangeUF(_UFidx)\n",
    "# # ChangeTF(_TFidx)"
   ]
  },
  {
   "cell_type": "markdown",
   "id": "ba8e7733",
   "metadata": {},
   "source": [
    "## setUF"
   ]
  },
  {
   "cell_type": "code",
   "execution_count": 29,
   "id": "f5547c8d",
   "metadata": {},
   "outputs": [
    {
     "data": {
      "text/plain": [
       "<bound method ModbusClient.close of <pyModbusTCP.client.ModbusClient object at 0x0600EE80>>"
      ]
     },
     "execution_count": 29,
     "metadata": {},
     "output_type": "execute_result"
    }
   ],
   "source": [
    "# # setUF(c,o,x,y,TF=0)\n",
    "# TF=0\n",
    "# c.open()\n",
    "# #o\n",
    "# pos=float2int(UF_O)\n",
    "# for i in range(3):\n",
    "#     c.write_multiple_registers((0x1210+2*i), intL2DRA(pos[i]))\n",
    "# c.write_multiple_registers(0x121C, int2DRA(TF))#TF\n",
    "# c.write_multiple_registers(0x121D, int2DRA(0))#UF\n",
    "\n",
    "# #x\n",
    "# pos=float2int(UF_X)\n",
    "# for i in range(3):\n",
    "#     c.write_multiple_registers((0x1220+2*i), intL2DRA(pos[i]))\n",
    "# c.write_multiple_registers(0x122C, int2DRA(TF))#TF\n",
    "# c.write_multiple_registers(0x122D, int2DRA(0))#UF\n",
    "# #y\n",
    "# pos=float2int(UF_Y)\n",
    "# for i in range(3):\n",
    "#     c.write_multiple_registers((0x1230+2*i), intL2DRA(pos[i]))\n",
    "# c.write_multiple_registers(0x123C, int2DRA(TF))#TF\n",
    "# c.write_multiple_registers(0x123D, int2DRA(0))#UF\n",
    "\n",
    "# c.write_multiple_registers(0x121F, int2DRA(8))#UF\n",
    "# c.write_multiple_registers(0x1001, int2DRA(5))#tell dra to run\n",
    "# time.sleep(1)\n",
    "\n",
    "# c.write_multiple_registers(0x1001, int2DRA(0))\n",
    "# c.close   "
   ]
  },
  {
   "cell_type": "code",
   "execution_count": 45,
   "id": "3f42401c",
   "metadata": {},
   "outputs": [
    {
     "data": {
      "text/plain": [
       "<bound method ModbusClient.close of <pyModbusTCP.client.ModbusClient object at 0x0600EE80>>"
      ]
     },
     "execution_count": 45,
     "metadata": {},
     "output_type": "execute_result"
    }
   ],
   "source": [
    "# c.open()\n",
    "# c.write_multiple_registers(0x1001, int2DRA(9))\n",
    "# time.sleep(1)\n",
    "# c.write_multiple_registers(0x1001, int2DRA(0))\n",
    "# c.close \n",
    "graspDemo(c)"
   ]
  },
  {
   "cell_type": "code",
   "execution_count": null,
   "id": "f37aad6a",
   "metadata": {},
   "outputs": [],
   "source": []
  }
 ],
 "metadata": {
  "kernelspec": {
   "display_name": "Python 3",
   "language": "python",
   "name": "python3"
  },
  "language_info": {
   "codemirror_mode": {
    "name": "ipython",
    "version": 3
   },
   "file_extension": ".py",
   "mimetype": "text/x-python",
   "name": "python",
   "nbconvert_exporter": "python",
   "pygments_lexer": "ipython3",
   "version": "3.8.6"
  }
 },
 "nbformat": 4,
 "nbformat_minor": 5
}
