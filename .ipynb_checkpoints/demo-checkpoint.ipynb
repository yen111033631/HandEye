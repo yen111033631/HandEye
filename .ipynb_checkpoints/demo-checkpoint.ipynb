{
 "cells": [
  {
   "cell_type": "code",
   "execution_count": 1,
   "id": "11c82a38",
   "metadata": {},
   "outputs": [],
   "source": [
    "import cv2\n",
    "import pyrealsense2 as rs\n",
    "import numpy as np\n",
    "from camCalibration import *\n",
    "from Modbus_DW import *\n",
    "from camera import *\n",
    "from demo import demo"
   ]
  },
  {
   "cell_type": "markdown",
   "id": "d338d915",
   "metadata": {},
   "source": [
    "## make calibration data"
   ]
  },
  {
   "cell_type": "code",
   "execution_count": 35,
   "id": "d48fa417",
   "metadata": {
    "scrolled": true
   },
   "outputs": [
    {
     "name": "stdout",
     "output_type": "stream",
     "text": [
      "connect success\n",
      "DRA is runing now\n",
      "[634.336, -22.729, 528.988, -179.053, -4.917, -90.317]\n",
      "[565.336, -14.528, 528.987, -179.053, -4.918, -90.316]\n"
     ]
    }
   ],
   "source": [
    "c=connectRobot(SERVER_HOST = \"192.168.1.1\")\n",
    "#teachPoint(c,[437.195, -50.004, 570.37, 177.131, -1.512, -2.359],TF=0)#origin\n",
    "# teachPoint(c,[535.336, -22.729, 528.988, -179.053, -4.917, -90.317],TF=7)#origin\n",
    "\n",
    "tmp2=[99,  0,  0,0,0,0]#[ 13.055,  -8.713,  386.425,  174.967 ,  0.937,  100.612]\n",
    "tmp=[535.336, -22.729, 528.988, -179.053, -4.917, -90.317]\n",
    "tmp3=tmp2[:]\n",
    "for i in range(len(tmp2)):\n",
    "    tmp3[i]=tmp[i]+tmp2[i]\n",
    "print(tmp3)\n",
    "teachPoint(c,tmp3,TF=7)#origin\n",
    "\n",
    "# teachPoint(c,[ -3.19040467, -16.49774376 ,358.55985394 ,178.9983068  ,  8.55485489,91.36813912])\n",
    "# changeTF(c,TF=7)\n",
    "pos=getRobotP(c)\n",
    "print(pos)\n",
    "# makeCamset(c,path=\"picture/demo\",pixel=\"high\",p0=pos)   #p0=pos\n",
    "# # teachPoint(c,pos)"
   ]
  },
  {
   "cell_type": "markdown",
   "id": "e9433f23",
   "metadata": {},
   "source": [
    "## run Hand Eye calibration"
   ]
  },
  {
   "cell_type": "code",
   "execution_count": 10,
   "id": "5260ba68",
   "metadata": {},
   "outputs": [
    {
     "name": "stdout",
     "output_type": "stream",
     "text": [
      "[[921.50920901   0.         660.55587457]\n",
      " [  0.         925.94250578 363.38740745]\n",
      " [  0.           0.           1.        ]]\n",
      "[[ 0.13815945 -0.11603005  0.00535243  0.00684845 -0.39495483]]\n",
      "error: 0.338996537738445\n",
      "distortion: [[ 0.13815945 -0.11603005  0.00535243  0.00684845 -0.39495483]]\n",
      "目錄存在。\n",
      "write charuco pose finish with  25 imgs\n",
      "Camera Tool Size:\n",
      " Width(mm):  101.48129438495883  Height(mm):  42.30454043577367  Angle(degree):  -19.24621153292759\n",
      "Camera Tool Orientation:\n",
      " Rx:  -0.4619970101750008  Ry:  1.9947075523939526  Rz:  87.8352412453748\n",
      "connect success\n",
      "DRA is runing now\n"
     ]
    }
   ],
   "source": [
    "cam1=Charuco()\n",
    "cam1.Calibration(imgPath=\"./picture/8_9\",show=False)\n",
    "cam1.HandEyeCalibration_EyeInHand()#new 按照數字讀圖\n",
    "\n",
    "c=connectRobot(SERVER_HOST = \"192.168.1.1\")\n",
    "RWTool(c,path=\"./picture/8_9\")"
   ]
  },
  {
   "cell_type": "markdown",
   "id": "e274863c",
   "metadata": {},
   "source": [
    "## demo UF"
   ]
  },
  {
   "cell_type": "code",
   "execution_count": 4,
   "id": "82207125",
   "metadata": {},
   "outputs": [
    {
     "name": "stdout",
     "output_type": "stream",
     "text": [
      "hello\n",
      "{'ARUCO_size': 4, 'dist': array([[ 0.13815945, -0.11603005,  0.00535243,  0.00684845, -0.39495483]]), 'iMtx': array([[921.50920901,   0.        , 660.55587457],\n",
      "       [  0.        , 925.94250578, 363.38740745],\n",
      "       [  0.        ,   0.        ,   1.        ]]), 'markerL': 0.015, 'squareL': 0.02, 'x': 9, 'y': 12}\n",
      "connect success\n",
      "DRA is closed, please run DRA\n",
      "UF: [9.95275102e+01 8.67887715e+00 3.92107886e+02 1.74751118e+02\n",
      " 2.48171324e-01 9.15650530e+01]\n",
      "stop DRA!\n"
     ]
    }
   ],
   "source": [
    "pipeline=startCamera()\n",
    "run=demo(\"./picture/8_9\")\n",
    "c=connectRobot(SERVER_HOST = \"192.168.1.1\")\n",
    "\n",
    "try:\n",
    "    while True:\n",
    "        Cam,colorImg,depthImg=CameraStream(pipeline)\n",
    "        if(Cam==0):#esc\n",
    "            break\n",
    "        elif(Cam==1):\n",
    "            continue\n",
    "        elif(Cam==3):#press 1\n",
    "            #print(\"1\")\n",
    "            a,UF=run.getSinglePose(colorImg)\n",
    "            print(\"UF:\",UF[0])\n",
    "            o,x,y=run.calUF()\n",
    "            setUF(c,o,x,y)\n",
    "            #setUF(c,UF[0],UF[1],UF[2],TF=7)\n",
    "#             pointBoardPose(c)\n",
    "#             teachPoint(c,[437.195, -50.004, 570.37, 177.131, -1.512, -2.359])#origin\n",
    "            #graspDemo(c)\n",
    "        else:\n",
    "#             print(\"123\")\n",
    "            continue\n",
    "        \n",
    "finally:\n",
    "\n",
    "    # Stop streaming\n",
    "    pipeline.stop()\n",
    "    cv2.destroyAllWindows()\n",
    "    closeRobot(c)"
   ]
  },
  {
   "cell_type": "code",
   "execution_count": null,
   "id": "76e09f01",
   "metadata": {},
   "outputs": [],
   "source": [
    "# UF.shape\n",
    "#changeUF(c,UF=0)  #board UF=8\n",
    "# changeTF(c,TF=0) #camera tool frame = 7,筷子=8\n"
   ]
  },
  {
   "cell_type": "code",
   "execution_count": 2,
   "id": "0a1dcd30",
   "metadata": {},
   "outputs": [],
   "source": [
    "# def pointBoardPose(c):\n",
    "# #     changeUF(c,UF=8)  #board UF=8\n",
    "# #     changeTF(c,TF=7)\n",
    "# #     teachPoint(c,[437.195, -50.004, 570.37, 177.131, -1.512, -2.359])#origin\n",
    "#     teachPoint(c,[0.,0.,30.,0.,0.,0.],TF=8,UF=8)\n",
    "#     pos=getRobotP(c)\n",
    "#     teachPoint(c,[0.,50.,30.,0.,0.,0.],TF=8,UF=8)\n",
    "#     pos=getRobotP(c)\n",
    "#     teachPoint(c,[0.,0.,30.,0.,0.,0.],TF=8,UF=8)\n",
    "#     pos=getRobotP(c)\n",
    "#     teachPoint(c,[50.,0.,30.,0.,0.,0.],TF=8,UF=8)\n",
    "#     pos=getRobotP(c)\n"
   ]
  },
  {
   "cell_type": "markdown",
   "id": "2183a92b",
   "metadata": {},
   "source": [
    "## calculate UF"
   ]
  },
  {
   "cell_type": "code",
   "execution_count": 23,
   "id": "ba10db52",
   "metadata": {},
   "outputs": [
    {
     "name": "stdout",
     "output_type": "stream",
     "text": [
      "[101.481, 42.304, -19.246, -0.461, 1.994, 87.835]\n"
     ]
    },
    {
     "data": {
      "text/plain": [
       "array([ 557.28949903, -241.4230152 ,  145.79091209,    1.        ])"
      ]
     },
     "execution_count": 23,
     "metadata": {},
     "output_type": "execute_result"
    }
   ],
   "source": [
    "Tco=euler2H(UF[0])\n",
    "# --Cal Tbe--\n",
    "changeUF(c,UF=0)\n",
    "changeTF(c,TF=0)\n",
    "pos=getRobotP(c)\n",
    "Tbe=euler2H(pos)\n",
    "\n",
    "# --ChangeTF(_TFidx)\n",
    "# --Get Camera TF--\n",
    "# Width, Height, Angle, Roll, Pitch, Yaw = GetTF(_TFidx)\n",
    "Tool=getTF(c,TF=7)\n",
    "print(Tool)\n",
    "# Tx=Width*COS(Angle)\n",
    "Tx=Tool[0]*math.cos(Tool[2])\n",
    "# Ty=Width*SIN(Angle)\n",
    "Ty=Tool[0]*math.sin(Tool[2])\n",
    "# Tec=PO2H(Tx,Ty,Height,Yaw,Pitch,Roll)\n",
    "Tec=euler2H([Tx,Ty,Tool[1],Tool[3],Tool[4],Tool[5]])\n",
    "\n",
    "# --Cal UF--\n",
    "axisX=np.array([100,0,0,1])\n",
    "axisY=np.array([0,100,0,1])\n",
    "Tbc=Tbe.dot(Tec)\n",
    "Tbo=Tbc.dot(Tco)\n",
    "UF_O=[Tbo[0][3],Tbo[1][3],Tbo[2][3]]\n",
    "# UF_X=matrix.mul(Tbo,axisX)\n",
    "UF_X=Tbo.dot(axisX)\n",
    "# UF_Y=matrix.mul(Tbo,axisY)\n",
    "UF_Y=Tbo.dot(axisY)\n",
    "\n",
    "# JRC = {0,0,0,0,0,1,0,1}\n",
    "# SetGlobalPoint(1,\"GL_1\",UF_O[1], UF_O[2],UF_O[3],0,0,0,0,0,0,0,0,JRC)\n",
    "# SetGlobalPoint(2,\"GL_2\",UF_X[1][1], UF_X[2][1],UF_X[3][1],0,0,0,0,0,0,0,0,JRC)\n",
    "# SetGlobalPoint(3,\"GL_3\",UF_Y[1][1], UF_Y[2][1],UF_Y[3][1],0,0,0,0,0,0,0,0,JRC)\n",
    "# SetUF(_UFidx,1,2,3,1)\n",
    "\n",
    "# ChangeUF(_UFidx)\n",
    "# ChangeTF(_TFidx)"
   ]
  },
  {
   "cell_type": "code",
   "execution_count": 6,
   "id": "2873dcf6",
   "metadata": {},
   "outputs": [
    {
     "data": {
      "text/plain": [
       "array([9.95275102e+01, 8.67887715e+00, 3.92107886e+02, 1.74751118e+02,\n",
       "       2.48171324e-01, 9.15650530e+01])"
      ]
     },
     "execution_count": 6,
     "metadata": {},
     "output_type": "execute_result"
    }
   ],
   "source": [
    "UF[0]"
   ]
  },
  {
   "cell_type": "code",
   "execution_count": 27,
   "id": "9ee7350a",
   "metadata": {},
   "outputs": [
    {
     "name": "stdout",
     "output_type": "stream",
     "text": [
      "[560.4498925058208, -141.47493740438276, 146.41833328744428]\n",
      "[ 460.510617   -138.3057311   144.97011289    1.        ]\n",
      "[ 557.28949903 -241.4230152   145.79091209    1.        ]\n"
     ]
    }
   ],
   "source": [
    "# RWTool(c,path=\"./picture/8_9\")\n",
    "print(UF_O)\n",
    "print(UF_X)\n",
    "print(UF_Y)"
   ]
  },
  {
   "cell_type": "markdown",
   "id": "ccddf616",
   "metadata": {},
   "source": [
    "## setUF"
   ]
  },
  {
   "cell_type": "code",
   "execution_count": 29,
   "id": "709d6eae",
   "metadata": {},
   "outputs": [
    {
     "data": {
      "text/plain": [
       "<bound method ModbusClient.close of <pyModbusTCP.client.ModbusClient object at 0x0600EE80>>"
      ]
     },
     "execution_count": 29,
     "metadata": {},
     "output_type": "execute_result"
    }
   ],
   "source": [
    "# # setUF(c,o,x,y,TF=0)\n",
    "# TF=0\n",
    "# c.open()\n",
    "# #o\n",
    "# pos=float2int(UF_O)\n",
    "# for i in range(3):\n",
    "#     c.write_multiple_registers((0x1210+2*i), intL2DRA(pos[i]))\n",
    "# c.write_multiple_registers(0x121C, int2DRA(TF))#TF\n",
    "# c.write_multiple_registers(0x121D, int2DRA(0))#UF\n",
    "\n",
    "# #x\n",
    "# pos=float2int(UF_X)\n",
    "# for i in range(3):\n",
    "#     c.write_multiple_registers((0x1220+2*i), intL2DRA(pos[i]))\n",
    "# c.write_multiple_registers(0x122C, int2DRA(TF))#TF\n",
    "# c.write_multiple_registers(0x122D, int2DRA(0))#UF\n",
    "# #y\n",
    "# pos=float2int(UF_Y)\n",
    "# for i in range(3):\n",
    "#     c.write_multiple_registers((0x1230+2*i), intL2DRA(pos[i]))\n",
    "# c.write_multiple_registers(0x123C, int2DRA(TF))#TF\n",
    "# c.write_multiple_registers(0x123D, int2DRA(0))#UF\n",
    "\n",
    "# c.write_multiple_registers(0x121F, int2DRA(8))#UF\n",
    "# c.write_multiple_registers(0x1001, int2DRA(5))#tell dra to run\n",
    "# time.sleep(1)\n",
    "\n",
    "# c.write_multiple_registers(0x1001, int2DRA(0))\n",
    "# c.close   "
   ]
  },
  {
   "cell_type": "code",
   "execution_count": 45,
   "id": "bf52a2de",
   "metadata": {},
   "outputs": [
    {
     "data": {
      "text/plain": [
       "<bound method ModbusClient.close of <pyModbusTCP.client.ModbusClient object at 0x0600EE80>>"
      ]
     },
     "execution_count": 45,
     "metadata": {},
     "output_type": "execute_result"
    }
   ],
   "source": [
    "c.open()\n",
    "c.write_multiple_registers(0x1001, int2DRA(9))\n",
    "time.sleep(1)\n",
    "c.write_multiple_registers(0x1001, int2DRA(0))\n",
    "c.close   "
   ]
  },
  {
   "cell_type": "code",
   "execution_count": null,
   "id": "ba9bb58a",
   "metadata": {},
   "outputs": [],
   "source": []
  }
 ],
 "metadata": {
  "kernelspec": {
   "display_name": "Python 3 (ipykernel)",
   "language": "python",
   "name": "python3"
  },
  "language_info": {
   "codemirror_mode": {
    "name": "ipython",
    "version": 3
   },
   "file_extension": ".py",
   "mimetype": "text/x-python",
   "name": "python",
   "nbconvert_exporter": "python",
   "pygments_lexer": "ipython3",
   "version": "3.8.9"
  }
 },
 "nbformat": 4,
 "nbformat_minor": 5
}
