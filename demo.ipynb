{
 "cells": [
  {
   "cell_type": "code",
   "execution_count": 4,
   "id": "11c82a38",
   "metadata": {},
   "outputs": [
    {
     "ename": "ImportError",
     "evalue": "cannot import name 'aruco' from 'cv2' (/Library/Frameworks/Python.framework/Versions/3.8/lib/python3.8/site-packages/cv2/__init__.py)",
     "output_type": "error",
     "traceback": [
      "\u001b[0;31m---------------------------------------------------------------------------\u001b[0m",
      "\u001b[0;31mImportError\u001b[0m                               Traceback (most recent call last)",
      "\u001b[0;32m/var/folders/kj/rln5s0_d7xnb_6k7gg9lv0g40000gn/T/ipykernel_17749/3135571231.py\u001b[0m in \u001b[0;36m<module>\u001b[0;34m\u001b[0m\n\u001b[1;32m      2\u001b[0m \u001b[0;31m# import pyrealsense as rs\u001b[0m\u001b[0;34m\u001b[0m\u001b[0;34m\u001b[0m\u001b[0;34m\u001b[0m\u001b[0m\n\u001b[1;32m      3\u001b[0m \u001b[0;32mimport\u001b[0m \u001b[0mnumpy\u001b[0m \u001b[0;32mas\u001b[0m \u001b[0mnp\u001b[0m\u001b[0;34m\u001b[0m\u001b[0;34m\u001b[0m\u001b[0m\n\u001b[0;32m----> 4\u001b[0;31m \u001b[0;32mfrom\u001b[0m \u001b[0mcamCalibration\u001b[0m \u001b[0;32mimport\u001b[0m \u001b[0;34m*\u001b[0m\u001b[0;34m\u001b[0m\u001b[0;34m\u001b[0m\u001b[0m\n\u001b[0m\u001b[1;32m      5\u001b[0m \u001b[0;32mfrom\u001b[0m \u001b[0mModbus_DW\u001b[0m \u001b[0;32mimport\u001b[0m \u001b[0;34m*\u001b[0m\u001b[0;34m\u001b[0m\u001b[0;34m\u001b[0m\u001b[0m\n\u001b[1;32m      6\u001b[0m \u001b[0;32mfrom\u001b[0m \u001b[0mcamera\u001b[0m \u001b[0;32mimport\u001b[0m \u001b[0;34m*\u001b[0m\u001b[0;34m\u001b[0m\u001b[0;34m\u001b[0m\u001b[0m\n",
      "\u001b[0;32m~/Desktop/HandeyePy/camCalibration.py\u001b[0m in \u001b[0;36m<module>\u001b[0;34m\u001b[0m\n\u001b[1;32m      5\u001b[0m \u001b[0;32mimport\u001b[0m \u001b[0mnumpy\u001b[0m \u001b[0;32mas\u001b[0m \u001b[0mnp\u001b[0m\u001b[0;34m\u001b[0m\u001b[0;34m\u001b[0m\u001b[0m\n\u001b[1;32m      6\u001b[0m \u001b[0;32mimport\u001b[0m \u001b[0mcv2\u001b[0m\u001b[0;34m\u001b[0m\u001b[0;34m\u001b[0m\u001b[0m\n\u001b[0;32m----> 7\u001b[0;31m \u001b[0;32mfrom\u001b[0m \u001b[0mcv2\u001b[0m \u001b[0;32mimport\u001b[0m \u001b[0maruco\u001b[0m\u001b[0;34m\u001b[0m\u001b[0;34m\u001b[0m\u001b[0m\n\u001b[0m\u001b[1;32m      8\u001b[0m \u001b[0;32mimport\u001b[0m \u001b[0mpickle\u001b[0m\u001b[0;34m\u001b[0m\u001b[0;34m\u001b[0m\u001b[0m\n\u001b[1;32m      9\u001b[0m \u001b[0;32mimport\u001b[0m \u001b[0mglob\u001b[0m\u001b[0;34m\u001b[0m\u001b[0;34m\u001b[0m\u001b[0m\n",
      "\u001b[0;31mImportError\u001b[0m: cannot import name 'aruco' from 'cv2' (/Library/Frameworks/Python.framework/Versions/3.8/lib/python3.8/site-packages/cv2/__init__.py)"
     ]
    }
   ],
   "source": [
    "import cv2\n",
    "# import pyrealsense as rs\n",
    "import numpy as np\n",
    "from camCalibration import *\n",
    "from Modbus_DW import *\n",
    "from camera import *\n",
    "from demo import demo"
   ]
  },
  {
   "cell_type": "markdown",
   "id": "b9892890",
   "metadata": {},
   "source": [
    "## make calibration data"
   ]
  },
  {
   "cell_type": "code",
   "execution_count": 9,
   "id": "97b972c8",
   "metadata": {},
   "outputs": [],
   "source": [
    "from pyModbusTCP.client import ModbusClient\n",
    "c = ModbusClient()\n",
    "servers_host = '192.168.1.1'\n",
    "c.host = '192.168.1.1'\n",
    "c.port = 502\n"
   ]
  },
  {
   "cell_type": "code",
   "execution_count": 10,
   "id": "b90a4091",
   "metadata": {
    "scrolled": true
   },
   "outputs": [
    {
     "ename": "NameError",
     "evalue": "name 'connectRobot' is not defined",
     "output_type": "error",
     "traceback": [
      "\u001b[0;31m---------------------------------------------------------------------------\u001b[0m",
      "\u001b[0;31mNameError\u001b[0m                                 Traceback (most recent call last)",
      "\u001b[0;32m/var/folders/kj/rln5s0_d7xnb_6k7gg9lv0g40000gn/T/ipykernel_17749/906150521.py\u001b[0m in \u001b[0;36m<module>\u001b[0;34m\u001b[0m\n\u001b[0;32m----> 1\u001b[0;31m \u001b[0mc\u001b[0m\u001b[0;34m=\u001b[0m\u001b[0mconnectRobot\u001b[0m\u001b[0;34m(\u001b[0m\u001b[0mSERVER_HOST\u001b[0m \u001b[0;34m=\u001b[0m \u001b[0;34m'192.168.1.1'\u001b[0m\u001b[0;34m)\u001b[0m\u001b[0;34m\u001b[0m\u001b[0;34m\u001b[0m\u001b[0m\n\u001b[0m\u001b[1;32m      2\u001b[0m \u001b[0;34m\u001b[0m\u001b[0m\n\u001b[1;32m      3\u001b[0m \u001b[0;31m# makeCamset(c,path=\"picture/demo\",pixel=\"high\",p0=pos)   #p0=pos\u001b[0m\u001b[0;34m\u001b[0m\u001b[0;34m\u001b[0m\u001b[0;34m\u001b[0m\u001b[0m\n\u001b[1;32m      4\u001b[0m \u001b[0;31m# # teachPoint(c,pos)\u001b[0m\u001b[0;34m\u001b[0m\u001b[0;34m\u001b[0m\u001b[0;34m\u001b[0m\u001b[0m\n",
      "\u001b[0;31mNameError\u001b[0m: name 'connectRobot' is not defined"
     ]
    }
   ],
   "source": [
    "c=connectRobot(SERVER_HOST = '192.168.1.1')\n",
    "\n",
    "# makeCamset(c,path=\"picture/demo\",pixel=\"high\",p0=pos)   #p0=pos\n",
    "# # teachPoint(c,pos)"
   ]
  },
  {
   "cell_type": "code",
   "execution_count": 11,
   "id": "apart-meditation",
   "metadata": {},
   "outputs": [
    {
     "ename": "NameError",
     "evalue": "name 'yaml' is not defined",
     "output_type": "error",
     "traceback": [
      "\u001b[0;31m---------------------------------------------------------------------------\u001b[0m",
      "\u001b[0;31mNameError\u001b[0m                                 Traceback (most recent call last)",
      "\u001b[0;32m/var/folders/kj/rln5s0_d7xnb_6k7gg9lv0g40000gn/T/ipykernel_17749/1909801522.py\u001b[0m in \u001b[0;36m<module>\u001b[0;34m\u001b[0m\n\u001b[1;32m      1\u001b[0m \u001b[0mpath\u001b[0m\u001b[0;34m=\u001b[0m\u001b[0;34m\"./picture/11_29_2\"\u001b[0m\u001b[0;34m\u001b[0m\u001b[0;34m\u001b[0m\u001b[0m\n\u001b[1;32m      2\u001b[0m \u001b[0;32mwith\u001b[0m \u001b[0mopen\u001b[0m\u001b[0;34m(\u001b[0m\u001b[0mpath\u001b[0m\u001b[0;34m+\u001b[0m\u001b[0;34m\"/data/HandEye.yaml\"\u001b[0m\u001b[0;34m,\u001b[0m \u001b[0;34m'r'\u001b[0m\u001b[0;34m)\u001b[0m \u001b[0;32mas\u001b[0m \u001b[0mf\u001b[0m\u001b[0;34m:\u001b[0m\u001b[0;34m\u001b[0m\u001b[0;34m\u001b[0m\u001b[0m\n\u001b[0;32m----> 3\u001b[0;31m     \u001b[0mdata\u001b[0m \u001b[0;34m=\u001b[0m \u001b[0myaml\u001b[0m\u001b[0;34m.\u001b[0m\u001b[0mload\u001b[0m\u001b[0;34m(\u001b[0m\u001b[0mf\u001b[0m\u001b[0;34m,\u001b[0m \u001b[0mLoader\u001b[0m\u001b[0;34m=\u001b[0m\u001b[0myaml\u001b[0m\u001b[0;34m.\u001b[0m\u001b[0mLoader\u001b[0m\u001b[0;34m)\u001b[0m\u001b[0;34m\u001b[0m\u001b[0;34m\u001b[0m\u001b[0m\n\u001b[0m\u001b[1;32m      4\u001b[0m \u001b[0mprint\u001b[0m\u001b[0;34m(\u001b[0m\u001b[0mdata\u001b[0m\u001b[0;34m)\u001b[0m\u001b[0;34m\u001b[0m\u001b[0;34m\u001b[0m\u001b[0m\n",
      "\u001b[0;31mNameError\u001b[0m: name 'yaml' is not defined"
     ]
    }
   ],
   "source": [
    "path=\"./picture/11_29_2\"\n",
    "with open(path+\"/data/HandEye.yaml\", 'r') as f:\n",
    "    data = yaml.load(f, Loader=yaml.Loader)\n",
    "print(data)"
   ]
  },
  {
   "cell_type": "markdown",
   "id": "8f546b8e",
   "metadata": {},
   "source": [
    "## run Hand Eye calibration"
   ]
  },
  {
   "cell_type": "code",
   "execution_count": 38,
   "id": "5260ba68",
   "metadata": {},
   "outputs": [
    {
     "name": "stdout",
     "output_type": "stream",
     "text": [
      "[[ 9.12082835e+02  0.00000000e+00  6.60771927e+02]\n",
      " [ 0.00000000e+00  1.97486722e+03 -4.26891197e+02]\n",
      " [ 0.00000000e+00  0.00000000e+00  1.00000000e+00]]\n",
      "[[ 0.77745702 -0.27871953 -0.33480723  0.00481466  0.03183092]]\n",
      "error: 48.854782194203516\n",
      "distortion: [[ 0.77745702 -0.27871953 -0.33480723  0.00481466  0.03183092]]\n",
      "目錄存在。\n"
     ]
    },
    {
     "ename": "AttributeError",
     "evalue": "module 'cv2.aruco' has no attribute 'drawAxis'",
     "output_type": "error",
     "traceback": [
      "\u001b[1;31m---------------------------------------------------------------------------\u001b[0m",
      "\u001b[1;31mAttributeError\u001b[0m                            Traceback (most recent call last)",
      "\u001b[1;32m<ipython-input-38-59cf58806639>\u001b[0m in \u001b[0;36m<module>\u001b[1;34m\u001b[0m\n\u001b[0;32m      1\u001b[0m \u001b[0mcam1\u001b[0m\u001b[1;33m=\u001b[0m\u001b[0mCharuco\u001b[0m\u001b[1;33m(\u001b[0m\u001b[1;33m)\u001b[0m\u001b[1;33m\u001b[0m\u001b[1;33m\u001b[0m\u001b[0m\n\u001b[1;32m----> 2\u001b[1;33m \u001b[0mcam1\u001b[0m\u001b[1;33m.\u001b[0m\u001b[0mCalibration\u001b[0m\u001b[1;33m(\u001b[0m\u001b[0mimgPath\u001b[0m\u001b[1;33m=\u001b[0m\u001b[1;34m\"./picture/11_29_2\"\u001b[0m\u001b[1;33m,\u001b[0m\u001b[0mshow\u001b[0m\u001b[1;33m=\u001b[0m\u001b[1;32mTrue\u001b[0m\u001b[1;33m)\u001b[0m\u001b[1;33m\u001b[0m\u001b[1;33m\u001b[0m\u001b[0m\n\u001b[0m\u001b[0;32m      3\u001b[0m \u001b[0mcam1\u001b[0m\u001b[1;33m.\u001b[0m\u001b[0mHandEyeCalibration_EyeInHand\u001b[0m\u001b[1;33m(\u001b[0m\u001b[1;33m)\u001b[0m\u001b[1;31m#new 按照數字讀圖\u001b[0m\u001b[1;33m\u001b[0m\u001b[1;33m\u001b[0m\u001b[0m\n\u001b[0;32m      4\u001b[0m \u001b[1;33m\u001b[0m\u001b[0m\n\u001b[0;32m      5\u001b[0m \u001b[0mc\u001b[0m\u001b[1;33m=\u001b[0m\u001b[0mconnectRobot\u001b[0m\u001b[1;33m(\u001b[0m\u001b[0mSERVER_HOST\u001b[0m \u001b[1;33m=\u001b[0m \u001b[1;34m\"192.168.1.1\"\u001b[0m\u001b[1;33m)\u001b[0m\u001b[1;33m\u001b[0m\u001b[1;33m\u001b[0m\u001b[0m\n",
      "\u001b[1;32m~\\Desktop\\HandeyePy\\camCalibration.py\u001b[0m in \u001b[0;36mCalibration\u001b[1;34m(self, imgPath, show)\u001b[0m\n\u001b[0;32m    322\u001b[0m         \u001b[0mself\u001b[0m\u001b[1;33m.\u001b[0m\u001b[0msaveCameraConfig\u001b[0m\u001b[1;33m(\u001b[0m\u001b[0mimgPath\u001b[0m\u001b[1;33m)\u001b[0m\u001b[1;33m\u001b[0m\u001b[1;33m\u001b[0m\u001b[0m\n\u001b[0;32m    323\u001b[0m \u001b[1;33m\u001b[0m\u001b[0m\n\u001b[1;32m--> 324\u001b[1;33m         \u001b[0mself\u001b[0m\u001b[1;33m.\u001b[0m\u001b[0mgetCharucoPose\u001b[0m\u001b[1;33m(\u001b[0m\u001b[0mshow\u001b[0m\u001b[1;33m)\u001b[0m\u001b[1;33m\u001b[0m\u001b[1;33m\u001b[0m\u001b[0m\n\u001b[0m\u001b[0;32m    325\u001b[0m \u001b[1;33m\u001b[0m\u001b[0m\n\u001b[0;32m    326\u001b[0m \u001b[1;33m\u001b[0m\u001b[0m\n",
      "\u001b[1;32m~\\Desktop\\HandeyePy\\camCalibration.py\u001b[0m in \u001b[0;36mgetCharucoPose\u001b[1;34m(self, show)\u001b[0m\n\u001b[0;32m    338\u001b[0m             \u001b[1;31m#print(\"t:\",tvec2)\u001b[0m\u001b[1;33m\u001b[0m\u001b[1;33m\u001b[0m\u001b[1;33m\u001b[0m\u001b[0m\n\u001b[0;32m    339\u001b[0m             \u001b[0mimg0\u001b[0m \u001b[1;33m=\u001b[0m \u001b[0mcv2\u001b[0m\u001b[1;33m.\u001b[0m\u001b[0mimread\u001b[0m\u001b[1;33m(\u001b[0m\u001b[0mimages\u001b[0m\u001b[1;33m[\u001b[0m\u001b[0mi\u001b[0m\u001b[1;33m]\u001b[0m\u001b[1;33m)\u001b[0m\u001b[1;33m\u001b[0m\u001b[1;33m\u001b[0m\u001b[0m\n\u001b[1;32m--> 340\u001b[1;33m             \u001b[0mimgNew\u001b[0m\u001b[1;33m=\u001b[0m\u001b[0maruco\u001b[0m\u001b[1;33m.\u001b[0m\u001b[0mdrawAxis\u001b[0m\u001b[1;33m(\u001b[0m\u001b[0mimg0\u001b[0m\u001b[1;33m,\u001b[0m\u001b[0mself\u001b[0m\u001b[1;33m.\u001b[0m\u001b[0miMtx\u001b[0m\u001b[1;33m,\u001b[0m\u001b[0mself\u001b[0m\u001b[1;33m.\u001b[0m\u001b[0mdist\u001b[0m\u001b[1;33m,\u001b[0m\u001b[0mrvec2\u001b[0m\u001b[1;33m,\u001b[0m\u001b[0mtvec2\u001b[0m\u001b[1;33m,\u001b[0m\u001b[1;36m0.1\u001b[0m\u001b[1;33m)\u001b[0m\u001b[1;33m\u001b[0m\u001b[1;33m\u001b[0m\u001b[0m\n\u001b[0m\u001b[0;32m    341\u001b[0m             \u001b[1;31m# Reproportion the image, maxing width or height at 1000\u001b[0m\u001b[1;33m\u001b[0m\u001b[1;33m\u001b[0m\u001b[1;33m\u001b[0m\u001b[0m\n\u001b[0;32m    342\u001b[0m             \u001b[0mproportion\u001b[0m \u001b[1;33m=\u001b[0m \u001b[0mmax\u001b[0m\u001b[1;33m(\u001b[0m\u001b[0mimgNew\u001b[0m\u001b[1;33m.\u001b[0m\u001b[0mshape\u001b[0m\u001b[1;33m)\u001b[0m \u001b[1;33m/\u001b[0m \u001b[1;36m1000.0\u001b[0m\u001b[1;33m\u001b[0m\u001b[1;33m\u001b[0m\u001b[0m\n",
      "\u001b[1;31mAttributeError\u001b[0m: module 'cv2.aruco' has no attribute 'drawAxis'"
     ]
    }
   ],
   "source": [
    "cam1=Charuco()\n",
    "cam1.Calibration(imgPath=\"./picture/11_29_2\",show=True)\n",
    "cam1.HandEyeCalibration_EyeInHand()#new 按照數字讀圖\n",
    "\n",
    "c=connectRobot(SERVER_HOST = \"192.168.1.1\")\n",
    "RWTool(c,path=\"./picture/11_29_2\")"
   ]
  },
  {
   "cell_type": "markdown",
   "id": "931a354b",
   "metadata": {},
   "source": [
    "## demo UF"
   ]
  },
  {
   "cell_type": "code",
   "execution_count": null,
   "id": "82207125",
   "metadata": {},
   "outputs": [
    {
     "name": "stdout",
     "output_type": "stream",
     "text": [
      "hello\n",
      "{'ARUCO_size': 6, 'dist': array([[ 0.16269981, -0.21051283,  0.00716262, -0.00676228, -0.26399864]]), 'iMtx': array([[947.35677163,   0.        , 631.87979122],\n",
      "       [  0.        , 949.73990136, 367.38558855],\n",
      "       [  0.        ,   0.        ,   1.        ]]), 'markerL': 0.015, 'squareL': 0.02, 'x': 9, 'y': 12}\n",
      "connect success\n",
      "DRA is runing now\n",
      "UF: [-41.295681100358635, -7.322228942469352, 420.9679920735176, 178.96042090725442, 4.382999345510111, -86.58219522551404]\n",
      "read try: 0\n",
      "UF: [9.094424940419607, -5.3866536991668825, 324.15538452250405, 179.53859750790286, 0.13995112852978142, -88.94951178106668]\n",
      "read try: 0\n"
     ]
    }
   ],
   "source": [
    "pipeline=startCamera()\n",
    "# run=demo(\"./picture/8_9\")\n",
    "run=demo(\"./picture/11_29_2\")\n",
    "c=connectRobot(SERVER_HOST = \"192.168.1.1\")\n",
    "\n",
    "try:\n",
    "    while True:\n",
    "        Cam,colorImg,depthImg=CameraStream(pipeline)\n",
    "        if(Cam==0):#esc\n",
    "            break\n",
    "        elif(Cam==1):\n",
    "            continue\n",
    "        elif(Cam==3):#press 1\n",
    "            #print(\"1\")\n",
    "            a,UF=run.getSinglePose(colorImg)\n",
    "            print(\"UF:\",UF)\n",
    "            o,x,y=run.calUF(c)\n",
    "            setUF(c,o,x,y)\n",
    "            #setUF(c,UF[0],UF[1],UF[2],TF=7)\n",
    "#             pointBoardPose(c)\n",
    "#             teachPoint(c,[437.195, -50.004, 570.37, 177.131, -1.512, -2.359])#origin\n",
    "            #graspDemo(c)\n",
    "        else:\n",
    "#             print(\"123\")\n",
    "            continue\n",
    "        \n",
    "finally:\n",
    "\n",
    "    # Stop streaming\n",
    "    pipeline.stop()\n",
    "    cv2.destroyAllWindows()\n",
    "    #closeRobot(c)"
   ]
  },
  {
   "cell_type": "code",
   "execution_count": null,
   "id": "a2d9e6a4",
   "metadata": {},
   "outputs": [],
   "source": [
    "# UF.shape\n",
    "#changeUF(c,UF=0)  #board UF=8\n",
    "# changeTF(c,TF=0) #camera tool frame = 7,筷子=8\n"
   ]
  },
  {
   "cell_type": "code",
   "execution_count": 2,
   "id": "0a1dcd30",
   "metadata": {},
   "outputs": [],
   "source": [
    "# def pointBoardPose(c):\n",
    "# #     changeUF(c,UF=8)  #board UF=8\n",
    "# #     changeTF(c,TF=7)\n",
    "# #     teachPoint(c,[437.195, -50.004, 570.37, 177.131, -1.512, -2.359])#origin\n",
    "#     teachPoint(c,[0.,0.,30.,0.,0.,0.],TF=8,UF=8)\n",
    "#     pos=getRobotP(c)\n",
    "#     teachPoint(c,[0.,50.,30.,0.,0.,0.],TF=8,UF=8)\n",
    "#     pos=getRobotP(c)\n",
    "#     teachPoint(c,[0.,0.,30.,0.,0.,0.],TF=8,UF=8)\n",
    "#     pos=getRobotP(c)\n",
    "#     teachPoint(c,[50.,0.,30.,0.,0.,0.],TF=8,UF=8)\n",
    "#     pos=getRobotP(c)\n"
   ]
  },
  {
   "cell_type": "markdown",
   "id": "eff3511a",
   "metadata": {},
   "source": [
    "## calculate UF"
   ]
  },
  {
   "cell_type": "code",
   "execution_count": 23,
   "id": "d2215abe",
   "metadata": {},
   "outputs": [
    {
     "name": "stdout",
     "output_type": "stream",
     "text": [
      "[101.481, 42.304, -19.246, -0.461, 1.994, 87.835]\n"
     ]
    },
    {
     "data": {
      "text/plain": [
       "array([ 557.28949903, -241.4230152 ,  145.79091209,    1.        ])"
      ]
     },
     "execution_count": 23,
     "metadata": {},
     "output_type": "execute_result"
    }
   ],
   "source": [
    "# Tco=euler2H(UF[0])\n",
    "# # --Cal Tbe--\n",
    "# changeUF(c,UF=0)\n",
    "# changeTF(c,TF=0)\n",
    "# pos=getRobotP(c)\n",
    "# Tbe=euler2H(pos)\n",
    "\n",
    "# # --ChangeTF(_TFidx)\n",
    "# # --Get Camera TF--\n",
    "# # Width, Height, Angle, Roll, Pitch, Yaw = GetTF(_TFidx)\n",
    "# Tool=getTF(c,TF=7)\n",
    "# print(Tool)\n",
    "# # Tx=Width*COS(Angle)\n",
    "# Tx=Tool[0]*math.cos(Tool[2])\n",
    "# # Ty=Width*SIN(Angle)\n",
    "# Ty=Tool[0]*math.sin(Tool[2])\n",
    "# # Tec=PO2H(Tx,Ty,Height,Yaw,Pitch,Roll)\n",
    "# Tec=euler2H([Tx,Ty,Tool[1],Tool[3],Tool[4],Tool[5]])\n",
    "\n",
    "# # --Cal UF--\n",
    "# axisX=np.array([100,0,0,1])\n",
    "# axisY=np.array([0,100,0,1])\n",
    "# Tbc=Tbe.dot(Tec)\n",
    "# Tbo=Tbc.dot(Tco)\n",
    "# UF_O=[Tbo[0][3],Tbo[1][3],Tbo[2][3]]\n",
    "# # UF_X=matrix.mul(Tbo,axisX)\n",
    "# UF_X=Tbo.dot(axisX)\n",
    "# # UF_Y=matrix.mul(Tbo,axisY)\n",
    "# UF_Y=Tbo.dot(axisY)\n",
    "\n",
    "# # JRC = {0,0,0,0,0,1,0,1}\n",
    "# # SetGlobalPoint(1,\"GL_1\",UF_O[1], UF_O[2],UF_O[3],0,0,0,0,0,0,0,0,JRC)\n",
    "# # SetGlobalPoint(2,\"GL_2\",UF_X[1][1], UF_X[2][1],UF_X[3][1],0,0,0,0,0,0,0,0,JRC)\n",
    "# # SetGlobalPoint(3,\"GL_3\",UF_Y[1][1], UF_Y[2][1],UF_Y[3][1],0,0,0,0,0,0,0,0,JRC)\n",
    "# # SetUF(_UFidx,1,2,3,1)\n",
    "\n",
    "# # ChangeUF(_UFidx)\n",
    "# # ChangeTF(_TFidx)"
   ]
  },
  {
   "cell_type": "markdown",
   "id": "ba8e7733",
   "metadata": {},
   "source": [
    "## setUF"
   ]
  },
  {
   "cell_type": "code",
   "execution_count": 29,
   "id": "f5547c8d",
   "metadata": {},
   "outputs": [
    {
     "data": {
      "text/plain": [
       "<bound method ModbusClient.close of <pyModbusTCP.client.ModbusClient object at 0x0600EE80>>"
      ]
     },
     "execution_count": 29,
     "metadata": {},
     "output_type": "execute_result"
    }
   ],
   "source": [
    "# # setUF(c,o,x,y,TF=0)\n",
    "# TF=0\n",
    "# c.open()\n",
    "# #o\n",
    "# pos=float2int(UF_O)\n",
    "# for i in range(3):\n",
    "#     c.write_multiple_registers((0x1210+2*i), intL2DRA(pos[i]))\n",
    "# c.write_multiple_registers(0x121C, int2DRA(TF))#TF\n",
    "# c.write_multiple_registers(0x121D, int2DRA(0))#UF\n",
    "\n",
    "# #x\n",
    "# pos=float2int(UF_X)\n",
    "# for i in range(3):\n",
    "#     c.write_multiple_registers((0x1220+2*i), intL2DRA(pos[i]))\n",
    "# c.write_multiple_registers(0x122C, int2DRA(TF))#TF\n",
    "# c.write_multiple_registers(0x122D, int2DRA(0))#UF\n",
    "# #y\n",
    "# pos=float2int(UF_Y)\n",
    "# for i in range(3):\n",
    "#     c.write_multiple_registers((0x1230+2*i), intL2DRA(pos[i]))\n",
    "# c.write_multiple_registers(0x123C, int2DRA(TF))#TF\n",
    "# c.write_multiple_registers(0x123D, int2DRA(0))#UF\n",
    "\n",
    "# c.write_multiple_registers(0x121F, int2DRA(8))#UF\n",
    "# c.write_multiple_registers(0x1001, int2DRA(5))#tell dra to run\n",
    "# time.sleep(1)\n",
    "\n",
    "# c.write_multiple_registers(0x1001, int2DRA(0))\n",
    "# c.close   "
   ]
  },
  {
   "cell_type": "code",
   "execution_count": 45,
   "id": "3f42401c",
   "metadata": {},
   "outputs": [
    {
     "data": {
      "text/plain": [
       "<bound method ModbusClient.close of <pyModbusTCP.client.ModbusClient object at 0x0600EE80>>"
      ]
     },
     "execution_count": 45,
     "metadata": {},
     "output_type": "execute_result"
    }
   ],
   "source": [
    "# c.open()\n",
    "# c.write_multiple_registers(0x1001, int2DRA(9))\n",
    "# time.sleep(1)\n",
    "# c.write_multiple_registers(0x1001, int2DRA(0))\n",
    "# c.close \n",
    "graspDemo(c)"
   ]
  },
  {
   "cell_type": "code",
   "execution_count": null,
   "id": "f37aad6a",
   "metadata": {},
   "outputs": [],
   "source": []
  }
 ],
 "metadata": {
  "kernelspec": {
   "display_name": "Python 3.8.5 64-bit",
   "language": "python",
   "name": "python3"
  },
  "language_info": {
   "codemirror_mode": {
    "name": "ipython",
    "version": 3
   },
   "file_extension": ".py",
   "mimetype": "text/x-python",
   "name": "python",
   "nbconvert_exporter": "python",
   "pygments_lexer": "ipython3",
   "version": "3.8.5"
  },
  "vscode": {
   "interpreter": {
    "hash": "aee8b7b246df8f9039afb4144a1f6fd8d2ca17a180786b69acc140d282b71a49"
   }
  }
 },
 "nbformat": 4,
 "nbformat_minor": 5
}
